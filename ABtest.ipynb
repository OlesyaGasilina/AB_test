{
 "cells": [
  {
   "cell_type": "markdown",
   "metadata": {},
   "source": [
    "# Проверка гипотез"
   ]
  },
  {
   "cell_type": "markdown",
   "metadata": {},
   "source": [
    "Отделом маркетинга подготовлено несколько гипотез для увеличения выручки.<br>\n",
    "Задачи\n",
    " - Приоритизировать гипотезы, \n",
    " - Запустить A/B-тест, \n",
    " - Проанализировать результаты."
   ]
  },
  {
   "cell_type": "markdown",
   "metadata": {},
   "source": [
    "Для анализа A/B теста проанализируем динамику следующих параметров:\n",
    " - кумулятивной выручки по группам;\n",
    " - кумулятивного среднего чека по группам;\n",
    " - относительного изменения кумулятивного среднего чека группы B к группе А;\n",
    " - кумулятивного среднего количества заказов на посетителя по группам;\n",
    " - относительного изменения кумулятивного среднего количества заказов на посетителя группы B к группе A.<br>\n",
    "Исследуем данные на наличие аномальных значений.<br>\n",
    "Посчитаем сатистическую значимость различий между группами в среднем чеке и среднем количестве заказов на пользователя по \"сырым\" и \"очищенным\" от аномалий значений. "
   ]
  },
  {
   "cell_type": "markdown",
   "metadata": {},
   "source": [
    "Описание данных\n",
    "Файл /datasets/hypothesis.csv\n",
    "содержит 9 гипотез по увеличению выручки интернет-магазина с указанными параметрами Reach, Impact, Confidence, Effort.\n",
    "\n",
    "Hypothesis — краткое описание гипотезы;\n",
    "Reach — охват пользователей по 10-балльной шкале;\n",
    "Impact — влияние на пользователей по 10-балльной шкале;\n",
    "Confidence — уверенность в гипотезе по 10-балльной шкале;\n",
    "Efforts — затраты ресурсов на проверку гипотезы по 10-балльной шкале.\n",
    "\n",
    "\n",
    "Файл /datasets/orders.csv\n",
    "- transactionId — идентификатор заказа;\n",
    "- visitorId — идентификатор пользователя, совершившего заказ;\n",
    "- date — дата, когда был совершён заказ;\n",
    "- revenue — выручка заказа;\n",
    "- group — группа A/B-теста, в которую попал заказ.\n",
    "\n",
    "Файл /datasets/visitors.csv\n",
    "- date — дата;\n",
    "- group — группа A/B-теста;\n",
    "- visitors — количество пользователей в указанную дату в указанной группе A/B-теста.\n"
   ]
  },
  {
   "cell_type": "code",
   "execution_count": 1,
   "metadata": {},
   "outputs": [],
   "source": [
    "#Загрузка бибилиотек\n",
    "import pandas as pd\n",
    "import datetime as dt\n",
    "import scipy.stats as stats\n",
    "import numpy as np\n",
    "import matplotlib.pyplot as plt\n",
    "from pandas.plotting import register_matplotlib_converters\n",
    "import warnings"
   ]
  },
  {
   "cell_type": "markdown",
   "metadata": {},
   "source": [
    "## Приоритезация гипотез"
   ]
  },
  {
   "cell_type": "code",
   "execution_count": 2,
   "metadata": {},
   "outputs": [
    {
     "data": {
      "text/html": [
       "<div>\n",
       "<style scoped>\n",
       "    .dataframe tbody tr th:only-of-type {\n",
       "        vertical-align: middle;\n",
       "    }\n",
       "\n",
       "    .dataframe tbody tr th {\n",
       "        vertical-align: top;\n",
       "    }\n",
       "\n",
       "    .dataframe thead th {\n",
       "        text-align: right;\n",
       "    }\n",
       "</style>\n",
       "<table border=\"1\" class=\"dataframe\">\n",
       "  <thead>\n",
       "    <tr style=\"text-align: right;\">\n",
       "      <th></th>\n",
       "      <th>Hypothesis</th>\n",
       "      <th>Reach</th>\n",
       "      <th>Impact</th>\n",
       "      <th>Confidence</th>\n",
       "      <th>Efforts</th>\n",
       "    </tr>\n",
       "  </thead>\n",
       "  <tbody>\n",
       "    <tr>\n",
       "      <th>0</th>\n",
       "      <td>Добавить два новых канала привлечения трафика, что позволит привлекать на 30% больше пользователей</td>\n",
       "      <td>3</td>\n",
       "      <td>10</td>\n",
       "      <td>8</td>\n",
       "      <td>6</td>\n",
       "    </tr>\n",
       "    <tr>\n",
       "      <th>1</th>\n",
       "      <td>Запустить собственную службу доставки, что сократит срок доставки заказов</td>\n",
       "      <td>2</td>\n",
       "      <td>5</td>\n",
       "      <td>4</td>\n",
       "      <td>10</td>\n",
       "    </tr>\n",
       "    <tr>\n",
       "      <th>2</th>\n",
       "      <td>Добавить блоки рекомендаций товаров на сайт интернет магазина, чтобы повысить конверсию и средний чек заказа</td>\n",
       "      <td>8</td>\n",
       "      <td>3</td>\n",
       "      <td>7</td>\n",
       "      <td>3</td>\n",
       "    </tr>\n",
       "    <tr>\n",
       "      <th>3</th>\n",
       "      <td>Изменить структура категорий, что увеличит конверсию, т.к. пользователи быстрее найдут нужный товар</td>\n",
       "      <td>8</td>\n",
       "      <td>3</td>\n",
       "      <td>3</td>\n",
       "      <td>8</td>\n",
       "    </tr>\n",
       "    <tr>\n",
       "      <th>4</th>\n",
       "      <td>Изменить цвет фона главной страницы, чтобы увеличить вовлеченность пользователей</td>\n",
       "      <td>3</td>\n",
       "      <td>1</td>\n",
       "      <td>1</td>\n",
       "      <td>1</td>\n",
       "    </tr>\n",
       "    <tr>\n",
       "      <th>5</th>\n",
       "      <td>Добавить страницу отзывов клиентов о магазине, что позволит увеличить количество заказов</td>\n",
       "      <td>3</td>\n",
       "      <td>2</td>\n",
       "      <td>2</td>\n",
       "      <td>3</td>\n",
       "    </tr>\n",
       "    <tr>\n",
       "      <th>6</th>\n",
       "      <td>Показать на главной странице баннеры с актуальными акциями и распродажами, чтобы увеличить конверсию</td>\n",
       "      <td>5</td>\n",
       "      <td>3</td>\n",
       "      <td>8</td>\n",
       "      <td>3</td>\n",
       "    </tr>\n",
       "    <tr>\n",
       "      <th>7</th>\n",
       "      <td>Добавить форму подписки на все основные страницы, чтобы собрать базу клиентов для email-рассылок</td>\n",
       "      <td>10</td>\n",
       "      <td>7</td>\n",
       "      <td>8</td>\n",
       "      <td>5</td>\n",
       "    </tr>\n",
       "    <tr>\n",
       "      <th>8</th>\n",
       "      <td>Запустить акцию, дающую скидку на товар в день рождения</td>\n",
       "      <td>1</td>\n",
       "      <td>9</td>\n",
       "      <td>9</td>\n",
       "      <td>5</td>\n",
       "    </tr>\n",
       "  </tbody>\n",
       "</table>\n",
       "</div>"
      ],
      "text/plain": [
       "                                                                                                     Hypothesis  \\\n",
       "0            Добавить два новых канала привлечения трафика, что позволит привлекать на 30% больше пользователей   \n",
       "1                                     Запустить собственную службу доставки, что сократит срок доставки заказов   \n",
       "2  Добавить блоки рекомендаций товаров на сайт интернет магазина, чтобы повысить конверсию и средний чек заказа   \n",
       "3           Изменить структура категорий, что увеличит конверсию, т.к. пользователи быстрее найдут нужный товар   \n",
       "4                              Изменить цвет фона главной страницы, чтобы увеличить вовлеченность пользователей   \n",
       "5                      Добавить страницу отзывов клиентов о магазине, что позволит увеличить количество заказов   \n",
       "6          Показать на главной странице баннеры с актуальными акциями и распродажами, чтобы увеличить конверсию   \n",
       "7              Добавить форму подписки на все основные страницы, чтобы собрать базу клиентов для email-рассылок   \n",
       "8                                                       Запустить акцию, дающую скидку на товар в день рождения   \n",
       "\n",
       "   Reach  Impact  Confidence  Efforts  \n",
       "0      3      10           8        6  \n",
       "1      2       5           4       10  \n",
       "2      8       3           7        3  \n",
       "3      8       3           3        8  \n",
       "4      3       1           1        1  \n",
       "5      3       2           2        3  \n",
       "6      5       3           8        3  \n",
       "7     10       7           8        5  \n",
       "8      1       9           9        5  "
      ]
     },
     "execution_count": 2,
     "metadata": {},
     "output_type": "execute_result"
    }
   ],
   "source": [
    "#загружаем данные\n",
    "data = pd.read_csv('/datasets/hypothesis.csv')\n",
    "pd.options.display.max_colwidth = 110\n",
    "data"
   ]
  },
  {
   "cell_type": "markdown",
   "metadata": {},
   "source": [
    "### Применим фреймворк ICE для приоритизации гипотез"
   ]
  },
  {
   "cell_type": "code",
   "execution_count": 3,
   "metadata": {},
   "outputs": [
    {
     "data": {
      "text/html": [
       "<div>\n",
       "<style scoped>\n",
       "    .dataframe tbody tr th:only-of-type {\n",
       "        vertical-align: middle;\n",
       "    }\n",
       "\n",
       "    .dataframe tbody tr th {\n",
       "        vertical-align: top;\n",
       "    }\n",
       "\n",
       "    .dataframe thead th {\n",
       "        text-align: right;\n",
       "    }\n",
       "</style>\n",
       "<table border=\"1\" class=\"dataframe\">\n",
       "  <thead>\n",
       "    <tr style=\"text-align: right;\">\n",
       "      <th></th>\n",
       "      <th>Hypothesis</th>\n",
       "      <th>Reach</th>\n",
       "      <th>Impact</th>\n",
       "      <th>Confidence</th>\n",
       "      <th>Efforts</th>\n",
       "      <th>ICE</th>\n",
       "    </tr>\n",
       "  </thead>\n",
       "  <tbody>\n",
       "    <tr>\n",
       "      <th>8</th>\n",
       "      <td>Запустить акцию, дающую скидку на товар в день рождения</td>\n",
       "      <td>1</td>\n",
       "      <td>9</td>\n",
       "      <td>9</td>\n",
       "      <td>5</td>\n",
       "      <td>16.20</td>\n",
       "    </tr>\n",
       "    <tr>\n",
       "      <th>0</th>\n",
       "      <td>Добавить два новых канала привлечения трафика, что позволит привлекать на 30% больше пользователей</td>\n",
       "      <td>3</td>\n",
       "      <td>10</td>\n",
       "      <td>8</td>\n",
       "      <td>6</td>\n",
       "      <td>13.33</td>\n",
       "    </tr>\n",
       "    <tr>\n",
       "      <th>7</th>\n",
       "      <td>Добавить форму подписки на все основные страницы, чтобы собрать базу клиентов для email-рассылок</td>\n",
       "      <td>10</td>\n",
       "      <td>7</td>\n",
       "      <td>8</td>\n",
       "      <td>5</td>\n",
       "      <td>11.20</td>\n",
       "    </tr>\n",
       "    <tr>\n",
       "      <th>6</th>\n",
       "      <td>Показать на главной странице баннеры с актуальными акциями и распродажами, чтобы увеличить конверсию</td>\n",
       "      <td>5</td>\n",
       "      <td>3</td>\n",
       "      <td>8</td>\n",
       "      <td>3</td>\n",
       "      <td>8.00</td>\n",
       "    </tr>\n",
       "    <tr>\n",
       "      <th>2</th>\n",
       "      <td>Добавить блоки рекомендаций товаров на сайт интернет магазина, чтобы повысить конверсию и средний чек заказа</td>\n",
       "      <td>8</td>\n",
       "      <td>3</td>\n",
       "      <td>7</td>\n",
       "      <td>3</td>\n",
       "      <td>7.00</td>\n",
       "    </tr>\n",
       "    <tr>\n",
       "      <th>1</th>\n",
       "      <td>Запустить собственную службу доставки, что сократит срок доставки заказов</td>\n",
       "      <td>2</td>\n",
       "      <td>5</td>\n",
       "      <td>4</td>\n",
       "      <td>10</td>\n",
       "      <td>2.00</td>\n",
       "    </tr>\n",
       "    <tr>\n",
       "      <th>5</th>\n",
       "      <td>Добавить страницу отзывов клиентов о магазине, что позволит увеличить количество заказов</td>\n",
       "      <td>3</td>\n",
       "      <td>2</td>\n",
       "      <td>2</td>\n",
       "      <td>3</td>\n",
       "      <td>1.33</td>\n",
       "    </tr>\n",
       "    <tr>\n",
       "      <th>3</th>\n",
       "      <td>Изменить структура категорий, что увеличит конверсию, т.к. пользователи быстрее найдут нужный товар</td>\n",
       "      <td>8</td>\n",
       "      <td>3</td>\n",
       "      <td>3</td>\n",
       "      <td>8</td>\n",
       "      <td>1.12</td>\n",
       "    </tr>\n",
       "    <tr>\n",
       "      <th>4</th>\n",
       "      <td>Изменить цвет фона главной страницы, чтобы увеличить вовлеченность пользователей</td>\n",
       "      <td>3</td>\n",
       "      <td>1</td>\n",
       "      <td>1</td>\n",
       "      <td>1</td>\n",
       "      <td>1.00</td>\n",
       "    </tr>\n",
       "  </tbody>\n",
       "</table>\n",
       "</div>"
      ],
      "text/plain": [
       "                                                                                                     Hypothesis  \\\n",
       "8                                                       Запустить акцию, дающую скидку на товар в день рождения   \n",
       "0            Добавить два новых канала привлечения трафика, что позволит привлекать на 30% больше пользователей   \n",
       "7              Добавить форму подписки на все основные страницы, чтобы собрать базу клиентов для email-рассылок   \n",
       "6          Показать на главной странице баннеры с актуальными акциями и распродажами, чтобы увеличить конверсию   \n",
       "2  Добавить блоки рекомендаций товаров на сайт интернет магазина, чтобы повысить конверсию и средний чек заказа   \n",
       "1                                     Запустить собственную службу доставки, что сократит срок доставки заказов   \n",
       "5                      Добавить страницу отзывов клиентов о магазине, что позволит увеличить количество заказов   \n",
       "3           Изменить структура категорий, что увеличит конверсию, т.к. пользователи быстрее найдут нужный товар   \n",
       "4                              Изменить цвет фона главной страницы, чтобы увеличить вовлеченность пользователей   \n",
       "\n",
       "   Reach  Impact  Confidence  Efforts    ICE  \n",
       "8      1       9           9        5  16.20  \n",
       "0      3      10           8        6  13.33  \n",
       "7     10       7           8        5  11.20  \n",
       "6      5       3           8        3   8.00  \n",
       "2      8       3           7        3   7.00  \n",
       "1      2       5           4       10   2.00  \n",
       "5      3       2           2        3   1.33  \n",
       "3      8       3           3        8   1.12  \n",
       "4      3       1           1        1   1.00  "
      ]
     },
     "execution_count": 3,
     "metadata": {},
     "output_type": "execute_result"
    }
   ],
   "source": [
    "data['ICE']=(data['Impact']*data['Confidence']/data['Efforts']).round(2)\n",
    "data.sort_values(by='ICE', ascending=False)"
   ]
  },
  {
   "cell_type": "code",
   "execution_count": 4,
   "metadata": {},
   "outputs": [
    {
     "name": "stdout",
     "output_type": "stream",
     "text": [
      "Наиболее приоритетными по оценке ICE являются гипотезы\n",
      "                                                                                           Hypothesis\n",
      "8                                             Запустить акцию, дающую скидку на товар в день рождения\n",
      "0  Добавить два новых канала привлечения трафика, что позволит привлекать на 30% больше пользователей\n",
      "7    Добавить форму подписки на все основные страницы, чтобы собрать базу клиентов для email-рассылок\n"
     ]
    }
   ],
   "source": [
    "print('Наиболее приоритетными по оценке ICE являются гипотезы')\n",
    "print(data.sort_values(by='ICE', ascending=False)[['Hypothesis']].head(3))"
   ]
  },
  {
   "cell_type": "markdown",
   "metadata": {},
   "source": [
    "### Примените фреймворк RICE для приоритизации гипотез. "
   ]
  },
  {
   "cell_type": "code",
   "execution_count": 5,
   "metadata": {},
   "outputs": [
    {
     "data": {
      "text/html": [
       "<div>\n",
       "<style scoped>\n",
       "    .dataframe tbody tr th:only-of-type {\n",
       "        vertical-align: middle;\n",
       "    }\n",
       "\n",
       "    .dataframe tbody tr th {\n",
       "        vertical-align: top;\n",
       "    }\n",
       "\n",
       "    .dataframe thead th {\n",
       "        text-align: right;\n",
       "    }\n",
       "</style>\n",
       "<table border=\"1\" class=\"dataframe\">\n",
       "  <thead>\n",
       "    <tr style=\"text-align: right;\">\n",
       "      <th></th>\n",
       "      <th>Hypothesis</th>\n",
       "      <th>Reach</th>\n",
       "      <th>Impact</th>\n",
       "      <th>Confidence</th>\n",
       "      <th>Efforts</th>\n",
       "      <th>ICE</th>\n",
       "      <th>RICE</th>\n",
       "    </tr>\n",
       "  </thead>\n",
       "  <tbody>\n",
       "    <tr>\n",
       "      <th>7</th>\n",
       "      <td>Добавить форму подписки на все основные страницы, чтобы собрать базу клиентов для email-рассылок</td>\n",
       "      <td>10</td>\n",
       "      <td>7</td>\n",
       "      <td>8</td>\n",
       "      <td>5</td>\n",
       "      <td>11.20</td>\n",
       "      <td>112.0</td>\n",
       "    </tr>\n",
       "    <tr>\n",
       "      <th>2</th>\n",
       "      <td>Добавить блоки рекомендаций товаров на сайт интернет магазина, чтобы повысить конверсию и средний чек заказа</td>\n",
       "      <td>8</td>\n",
       "      <td>3</td>\n",
       "      <td>7</td>\n",
       "      <td>3</td>\n",
       "      <td>7.00</td>\n",
       "      <td>56.0</td>\n",
       "    </tr>\n",
       "    <tr>\n",
       "      <th>0</th>\n",
       "      <td>Добавить два новых канала привлечения трафика, что позволит привлекать на 30% больше пользователей</td>\n",
       "      <td>3</td>\n",
       "      <td>10</td>\n",
       "      <td>8</td>\n",
       "      <td>6</td>\n",
       "      <td>13.33</td>\n",
       "      <td>40.0</td>\n",
       "    </tr>\n",
       "    <tr>\n",
       "      <th>6</th>\n",
       "      <td>Показать на главной странице баннеры с актуальными акциями и распродажами, чтобы увеличить конверсию</td>\n",
       "      <td>5</td>\n",
       "      <td>3</td>\n",
       "      <td>8</td>\n",
       "      <td>3</td>\n",
       "      <td>8.00</td>\n",
       "      <td>40.0</td>\n",
       "    </tr>\n",
       "    <tr>\n",
       "      <th>8</th>\n",
       "      <td>Запустить акцию, дающую скидку на товар в день рождения</td>\n",
       "      <td>1</td>\n",
       "      <td>9</td>\n",
       "      <td>9</td>\n",
       "      <td>5</td>\n",
       "      <td>16.20</td>\n",
       "      <td>16.2</td>\n",
       "    </tr>\n",
       "    <tr>\n",
       "      <th>3</th>\n",
       "      <td>Изменить структура категорий, что увеличит конверсию, т.к. пользователи быстрее найдут нужный товар</td>\n",
       "      <td>8</td>\n",
       "      <td>3</td>\n",
       "      <td>3</td>\n",
       "      <td>8</td>\n",
       "      <td>1.12</td>\n",
       "      <td>9.0</td>\n",
       "    </tr>\n",
       "    <tr>\n",
       "      <th>1</th>\n",
       "      <td>Запустить собственную службу доставки, что сократит срок доставки заказов</td>\n",
       "      <td>2</td>\n",
       "      <td>5</td>\n",
       "      <td>4</td>\n",
       "      <td>10</td>\n",
       "      <td>2.00</td>\n",
       "      <td>4.0</td>\n",
       "    </tr>\n",
       "    <tr>\n",
       "      <th>5</th>\n",
       "      <td>Добавить страницу отзывов клиентов о магазине, что позволит увеличить количество заказов</td>\n",
       "      <td>3</td>\n",
       "      <td>2</td>\n",
       "      <td>2</td>\n",
       "      <td>3</td>\n",
       "      <td>1.33</td>\n",
       "      <td>4.0</td>\n",
       "    </tr>\n",
       "    <tr>\n",
       "      <th>4</th>\n",
       "      <td>Изменить цвет фона главной страницы, чтобы увеличить вовлеченность пользователей</td>\n",
       "      <td>3</td>\n",
       "      <td>1</td>\n",
       "      <td>1</td>\n",
       "      <td>1</td>\n",
       "      <td>1.00</td>\n",
       "      <td>3.0</td>\n",
       "    </tr>\n",
       "  </tbody>\n",
       "</table>\n",
       "</div>"
      ],
      "text/plain": [
       "                                                                                                     Hypothesis  \\\n",
       "7              Добавить форму подписки на все основные страницы, чтобы собрать базу клиентов для email-рассылок   \n",
       "2  Добавить блоки рекомендаций товаров на сайт интернет магазина, чтобы повысить конверсию и средний чек заказа   \n",
       "0            Добавить два новых канала привлечения трафика, что позволит привлекать на 30% больше пользователей   \n",
       "6          Показать на главной странице баннеры с актуальными акциями и распродажами, чтобы увеличить конверсию   \n",
       "8                                                       Запустить акцию, дающую скидку на товар в день рождения   \n",
       "3           Изменить структура категорий, что увеличит конверсию, т.к. пользователи быстрее найдут нужный товар   \n",
       "1                                     Запустить собственную службу доставки, что сократит срок доставки заказов   \n",
       "5                      Добавить страницу отзывов клиентов о магазине, что позволит увеличить количество заказов   \n",
       "4                              Изменить цвет фона главной страницы, чтобы увеличить вовлеченность пользователей   \n",
       "\n",
       "   Reach  Impact  Confidence  Efforts    ICE   RICE  \n",
       "7     10       7           8        5  11.20  112.0  \n",
       "2      8       3           7        3   7.00   56.0  \n",
       "0      3      10           8        6  13.33   40.0  \n",
       "6      5       3           8        3   8.00   40.0  \n",
       "8      1       9           9        5  16.20   16.2  \n",
       "3      8       3           3        8   1.12    9.0  \n",
       "1      2       5           4       10   2.00    4.0  \n",
       "5      3       2           2        3   1.33    4.0  \n",
       "4      3       1           1        1   1.00    3.0  "
      ]
     },
     "execution_count": 5,
     "metadata": {},
     "output_type": "execute_result"
    }
   ],
   "source": [
    "data['RICE']=data['Reach']*data['Impact']*data['Confidence']/data['Efforts']\n",
    "data.sort_values(by='RICE', ascending=False)"
   ]
  },
  {
   "cell_type": "markdown",
   "metadata": {},
   "source": [
    "С учетом параметра, отражающего количество пользователей, которых затронет изменение, наиболее перспективными являются гипотезы:\n",
    "- \"Добавить форму подписки на все основные страницы, чтобы собрать базу клиентов для email-рассылок\", \n",
    "- \"Добавить блоки рекомендаций товаров на сайт интернет магазина, чтобы повысить конверсию и средний чек заказа\",\n",
    "- \"Добавить два новых канала привлечения трафика, что позволит привлекать на 30% больше пользователей\",\n",
    "- \"Показать на главной странице баннеры с актуальными акциями и распродажами, чтобы увеличить конверсию\t\". <br>\n",
    "Такие изменения приоритетов связаны с учетом оценочного количества пользователей, на которых повлияет изменение. <br>\n",
    "Учитывая результаты предыдущего метода для A/B тестирования выберем гипотезу \"Добавить форму подписки на все основные страницы, чтобы собрать базу клиентов для email-рассылок\"."
   ]
  },
  {
   "cell_type": "markdown",
   "metadata": {},
   "source": [
    "## Анализ A/B-теста"
   ]
  },
  {
   "cell_type": "markdown",
   "metadata": {},
   "source": [
    "### Проверка и анализ полученных данных"
   ]
  },
  {
   "cell_type": "code",
   "execution_count": 6,
   "metadata": {
    "scrolled": false
   },
   "outputs": [
    {
     "data": {
      "text/html": [
       "<div>\n",
       "<style scoped>\n",
       "    .dataframe tbody tr th:only-of-type {\n",
       "        vertical-align: middle;\n",
       "    }\n",
       "\n",
       "    .dataframe tbody tr th {\n",
       "        vertical-align: top;\n",
       "    }\n",
       "\n",
       "    .dataframe thead th {\n",
       "        text-align: right;\n",
       "    }\n",
       "</style>\n",
       "<table border=\"1\" class=\"dataframe\">\n",
       "  <thead>\n",
       "    <tr style=\"text-align: right;\">\n",
       "      <th></th>\n",
       "      <th>transactionId</th>\n",
       "      <th>visitorId</th>\n",
       "      <th>date</th>\n",
       "      <th>revenue</th>\n",
       "      <th>group</th>\n",
       "    </tr>\n",
       "  </thead>\n",
       "  <tbody>\n",
       "    <tr>\n",
       "      <th>0</th>\n",
       "      <td>3667963787</td>\n",
       "      <td>3312258926</td>\n",
       "      <td>2019-08-15</td>\n",
       "      <td>1650</td>\n",
       "      <td>B</td>\n",
       "    </tr>\n",
       "    <tr>\n",
       "      <th>1</th>\n",
       "      <td>2804400009</td>\n",
       "      <td>3642806036</td>\n",
       "      <td>2019-08-15</td>\n",
       "      <td>730</td>\n",
       "      <td>B</td>\n",
       "    </tr>\n",
       "    <tr>\n",
       "      <th>2</th>\n",
       "      <td>2961555356</td>\n",
       "      <td>4069496402</td>\n",
       "      <td>2019-08-15</td>\n",
       "      <td>400</td>\n",
       "      <td>A</td>\n",
       "    </tr>\n",
       "    <tr>\n",
       "      <th>3</th>\n",
       "      <td>3797467345</td>\n",
       "      <td>1196621759</td>\n",
       "      <td>2019-08-15</td>\n",
       "      <td>9759</td>\n",
       "      <td>B</td>\n",
       "    </tr>\n",
       "    <tr>\n",
       "      <th>4</th>\n",
       "      <td>2282983706</td>\n",
       "      <td>2322279887</td>\n",
       "      <td>2019-08-15</td>\n",
       "      <td>2308</td>\n",
       "      <td>B</td>\n",
       "    </tr>\n",
       "  </tbody>\n",
       "</table>\n",
       "</div>"
      ],
      "text/plain": [
       "   transactionId   visitorId       date  revenue group\n",
       "0     3667963787  3312258926 2019-08-15     1650     B\n",
       "1     2804400009  3642806036 2019-08-15      730     B\n",
       "2     2961555356  4069496402 2019-08-15      400     A\n",
       "3     3797467345  1196621759 2019-08-15     9759     B\n",
       "4     2282983706  2322279887 2019-08-15     2308     B"
      ]
     },
     "execution_count": 6,
     "metadata": {},
     "output_type": "execute_result"
    }
   ],
   "source": [
    "orders = pd.read_csv('/datasets/orders.csv', parse_dates=['date'])\n",
    "orders.head()"
   ]
  },
  {
   "cell_type": "code",
   "execution_count": 7,
   "metadata": {},
   "outputs": [
    {
     "name": "stdout",
     "output_type": "stream",
     "text": [
      "<class 'pandas.core.frame.DataFrame'>\n",
      "RangeIndex: 1197 entries, 0 to 1196\n",
      "Data columns (total 5 columns):\n",
      " #   Column         Non-Null Count  Dtype         \n",
      "---  ------         --------------  -----         \n",
      " 0   transactionId  1197 non-null   int64         \n",
      " 1   visitorId      1197 non-null   int64         \n",
      " 2   date           1197 non-null   datetime64[ns]\n",
      " 3   revenue        1197 non-null   int64         \n",
      " 4   group          1197 non-null   object        \n",
      "dtypes: datetime64[ns](1), int64(3), object(1)\n",
      "memory usage: 46.9+ KB\n"
     ]
    }
   ],
   "source": [
    "orders.info()"
   ]
  },
  {
   "cell_type": "code",
   "execution_count": 8,
   "metadata": {},
   "outputs": [
    {
     "data": {
      "text/plain": [
       "0"
      ]
     },
     "execution_count": 8,
     "metadata": {},
     "output_type": "execute_result"
    }
   ],
   "source": [
    "orders.duplicated().sum()"
   ]
  },
  {
   "cell_type": "code",
   "execution_count": 9,
   "metadata": {},
   "outputs": [
    {
     "name": "stdout",
     "output_type": "stream",
     "text": [
      "Данные о заказах содержат информацию за период: 2019-08-01 00:00:00 по 2019-08-31 00:00:00\n"
     ]
    }
   ],
   "source": [
    "print('Данные о заказах содержат информацию за период:', orders['date'].min(), 'по', orders['date'].max())"
   ]
  },
  {
   "cell_type": "code",
   "execution_count": 10,
   "metadata": {},
   "outputs": [
    {
     "data": {
      "text/html": [
       "<div>\n",
       "<style scoped>\n",
       "    .dataframe tbody tr th:only-of-type {\n",
       "        vertical-align: middle;\n",
       "    }\n",
       "\n",
       "    .dataframe tbody tr th {\n",
       "        vertical-align: top;\n",
       "    }\n",
       "\n",
       "    .dataframe thead th {\n",
       "        text-align: right;\n",
       "    }\n",
       "</style>\n",
       "<table border=\"1\" class=\"dataframe\">\n",
       "  <thead>\n",
       "    <tr style=\"text-align: right;\">\n",
       "      <th></th>\n",
       "      <th>date</th>\n",
       "      <th>group</th>\n",
       "      <th>visitors</th>\n",
       "    </tr>\n",
       "  </thead>\n",
       "  <tbody>\n",
       "    <tr>\n",
       "      <th>0</th>\n",
       "      <td>2019-08-01</td>\n",
       "      <td>A</td>\n",
       "      <td>719</td>\n",
       "    </tr>\n",
       "    <tr>\n",
       "      <th>1</th>\n",
       "      <td>2019-08-02</td>\n",
       "      <td>A</td>\n",
       "      <td>619</td>\n",
       "    </tr>\n",
       "    <tr>\n",
       "      <th>2</th>\n",
       "      <td>2019-08-03</td>\n",
       "      <td>A</td>\n",
       "      <td>507</td>\n",
       "    </tr>\n",
       "    <tr>\n",
       "      <th>3</th>\n",
       "      <td>2019-08-04</td>\n",
       "      <td>A</td>\n",
       "      <td>717</td>\n",
       "    </tr>\n",
       "    <tr>\n",
       "      <th>4</th>\n",
       "      <td>2019-08-05</td>\n",
       "      <td>A</td>\n",
       "      <td>756</td>\n",
       "    </tr>\n",
       "  </tbody>\n",
       "</table>\n",
       "</div>"
      ],
      "text/plain": [
       "        date group  visitors\n",
       "0 2019-08-01     A       719\n",
       "1 2019-08-02     A       619\n",
       "2 2019-08-03     A       507\n",
       "3 2019-08-04     A       717\n",
       "4 2019-08-05     A       756"
      ]
     },
     "execution_count": 10,
     "metadata": {},
     "output_type": "execute_result"
    }
   ],
   "source": [
    "visitors = pd.read_csv('/datasets/visitors.csv', parse_dates=['date'])\n",
    "visitors.head()"
   ]
  },
  {
   "cell_type": "code",
   "execution_count": 11,
   "metadata": {},
   "outputs": [
    {
     "name": "stdout",
     "output_type": "stream",
     "text": [
      "<class 'pandas.core.frame.DataFrame'>\n",
      "RangeIndex: 62 entries, 0 to 61\n",
      "Data columns (total 3 columns):\n",
      " #   Column    Non-Null Count  Dtype         \n",
      "---  ------    --------------  -----         \n",
      " 0   date      62 non-null     datetime64[ns]\n",
      " 1   group     62 non-null     object        \n",
      " 2   visitors  62 non-null     int64         \n",
      "dtypes: datetime64[ns](1), int64(1), object(1)\n",
      "memory usage: 1.6+ KB\n"
     ]
    }
   ],
   "source": [
    "visitors.info()"
   ]
  },
  {
   "cell_type": "code",
   "execution_count": 12,
   "metadata": {},
   "outputs": [
    {
     "name": "stdout",
     "output_type": "stream",
     "text": [
      "Данные содержат информацию за период: 2019-08-01 00:00:00 по 2019-08-31 00:00:00\n"
     ]
    }
   ],
   "source": [
    "print('Данные содержат информацию за период:', visitors['date'].min(), 'по', visitors['date'].max())\n"
   ]
  },
  {
   "cell_type": "markdown",
   "metadata": {},
   "source": [
    "Полученные данные содержат информацию за период с 1 по 31 августа 2019 года.<br>\n",
    "Дубликатов и пропущенных значений в данных не обнаружено."
   ]
  },
  {
   "cell_type": "markdown",
   "metadata": {},
   "source": [
    "### Анализ кумулятивной выручки по группам"
   ]
  },
  {
   "cell_type": "code",
   "execution_count": 13,
   "metadata": {},
   "outputs": [],
   "source": [
    "#создадим массив уникальных пар дат и групп теста\n",
    "datesGroups = orders[['date','group']].drop_duplicates()"
   ]
  },
  {
   "cell_type": "code",
   "execution_count": 14,
   "metadata": {},
   "outputs": [
    {
     "data": {
      "text/html": [
       "<div>\n",
       "<style scoped>\n",
       "    .dataframe tbody tr th:only-of-type {\n",
       "        vertical-align: middle;\n",
       "    }\n",
       "\n",
       "    .dataframe tbody tr th {\n",
       "        vertical-align: top;\n",
       "    }\n",
       "\n",
       "    .dataframe thead th {\n",
       "        text-align: right;\n",
       "    }\n",
       "</style>\n",
       "<table border=\"1\" class=\"dataframe\">\n",
       "  <thead>\n",
       "    <tr style=\"text-align: right;\">\n",
       "      <th></th>\n",
       "      <th>date</th>\n",
       "      <th>group</th>\n",
       "      <th>transactionId</th>\n",
       "      <th>visitorId</th>\n",
       "      <th>revenue</th>\n",
       "    </tr>\n",
       "  </thead>\n",
       "  <tbody>\n",
       "    <tr>\n",
       "      <th>55</th>\n",
       "      <td>2019-08-01</td>\n",
       "      <td>A</td>\n",
       "      <td>24</td>\n",
       "      <td>20</td>\n",
       "      <td>148579</td>\n",
       "    </tr>\n",
       "    <tr>\n",
       "      <th>66</th>\n",
       "      <td>2019-08-01</td>\n",
       "      <td>B</td>\n",
       "      <td>21</td>\n",
       "      <td>20</td>\n",
       "      <td>101217</td>\n",
       "    </tr>\n",
       "    <tr>\n",
       "      <th>175</th>\n",
       "      <td>2019-08-02</td>\n",
       "      <td>A</td>\n",
       "      <td>44</td>\n",
       "      <td>38</td>\n",
       "      <td>242401</td>\n",
       "    </tr>\n",
       "    <tr>\n",
       "      <th>173</th>\n",
       "      <td>2019-08-02</td>\n",
       "      <td>B</td>\n",
       "      <td>45</td>\n",
       "      <td>43</td>\n",
       "      <td>266748</td>\n",
       "    </tr>\n",
       "    <tr>\n",
       "      <th>291</th>\n",
       "      <td>2019-08-03</td>\n",
       "      <td>A</td>\n",
       "      <td>68</td>\n",
       "      <td>62</td>\n",
       "      <td>354874</td>\n",
       "    </tr>\n",
       "    <tr>\n",
       "      <th>...</th>\n",
       "      <td>...</td>\n",
       "      <td>...</td>\n",
       "      <td>...</td>\n",
       "      <td>...</td>\n",
       "      <td>...</td>\n",
       "    </tr>\n",
       "    <tr>\n",
       "      <th>496</th>\n",
       "      <td>2019-08-29</td>\n",
       "      <td>B</td>\n",
       "      <td>596</td>\n",
       "      <td>544</td>\n",
       "      <td>5559398</td>\n",
       "    </tr>\n",
       "    <tr>\n",
       "      <th>730</th>\n",
       "      <td>2019-08-30</td>\n",
       "      <td>A</td>\n",
       "      <td>545</td>\n",
       "      <td>493</td>\n",
       "      <td>4022970</td>\n",
       "    </tr>\n",
       "    <tr>\n",
       "      <th>690</th>\n",
       "      <td>2019-08-30</td>\n",
       "      <td>B</td>\n",
       "      <td>620</td>\n",
       "      <td>567</td>\n",
       "      <td>5774631</td>\n",
       "    </tr>\n",
       "    <tr>\n",
       "      <th>958</th>\n",
       "      <td>2019-08-31</td>\n",
       "      <td>A</td>\n",
       "      <td>557</td>\n",
       "      <td>503</td>\n",
       "      <td>4084803</td>\n",
       "    </tr>\n",
       "    <tr>\n",
       "      <th>930</th>\n",
       "      <td>2019-08-31</td>\n",
       "      <td>B</td>\n",
       "      <td>640</td>\n",
       "      <td>586</td>\n",
       "      <td>5907760</td>\n",
       "    </tr>\n",
       "  </tbody>\n",
       "</table>\n",
       "<p>62 rows × 5 columns</p>\n",
       "</div>"
      ],
      "text/plain": [
       "          date group  transactionId  visitorId  revenue\n",
       "55  2019-08-01     A             24         20   148579\n",
       "66  2019-08-01     B             21         20   101217\n",
       "175 2019-08-02     A             44         38   242401\n",
       "173 2019-08-02     B             45         43   266748\n",
       "291 2019-08-03     A             68         62   354874\n",
       "..         ...   ...            ...        ...      ...\n",
       "496 2019-08-29     B            596        544  5559398\n",
       "730 2019-08-30     A            545        493  4022970\n",
       "690 2019-08-30     B            620        567  5774631\n",
       "958 2019-08-31     A            557        503  4084803\n",
       "930 2019-08-31     B            640        586  5907760\n",
       "\n",
       "[62 rows x 5 columns]"
      ]
     },
     "execution_count": 14,
     "metadata": {},
     "output_type": "execute_result"
    }
   ],
   "source": [
    "# получим агрегированные кумулятивные по дням данные о заказах \n",
    "ordersAggregated = (\n",
    "    datesGroups.apply(lambda x: orders[np.logical_and(orders['date'] <= x['date'], orders['group'] == x['group'])]\n",
    "    .agg({'date' : 'max', 'group' : 'max', 'transactionId' : 'nunique', 'visitorId' : 'nunique', 'revenue' : 'sum'}),axis=1)\n",
    "    .sort_values(by=['date','group'])\n",
    ")\n",
    "ordersAggregated"
   ]
  },
  {
   "cell_type": "code",
   "execution_count": 15,
   "metadata": {},
   "outputs": [
    {
     "data": {
      "text/html": [
       "<div>\n",
       "<style scoped>\n",
       "    .dataframe tbody tr th:only-of-type {\n",
       "        vertical-align: middle;\n",
       "    }\n",
       "\n",
       "    .dataframe tbody tr th {\n",
       "        vertical-align: top;\n",
       "    }\n",
       "\n",
       "    .dataframe thead th {\n",
       "        text-align: right;\n",
       "    }\n",
       "</style>\n",
       "<table border=\"1\" class=\"dataframe\">\n",
       "  <thead>\n",
       "    <tr style=\"text-align: right;\">\n",
       "      <th></th>\n",
       "      <th>date</th>\n",
       "      <th>group</th>\n",
       "      <th>visitors</th>\n",
       "    </tr>\n",
       "  </thead>\n",
       "  <tbody>\n",
       "    <tr>\n",
       "      <th>55</th>\n",
       "      <td>2019-08-01</td>\n",
       "      <td>A</td>\n",
       "      <td>719</td>\n",
       "    </tr>\n",
       "    <tr>\n",
       "      <th>66</th>\n",
       "      <td>2019-08-01</td>\n",
       "      <td>B</td>\n",
       "      <td>713</td>\n",
       "    </tr>\n",
       "    <tr>\n",
       "      <th>175</th>\n",
       "      <td>2019-08-02</td>\n",
       "      <td>A</td>\n",
       "      <td>1338</td>\n",
       "    </tr>\n",
       "    <tr>\n",
       "      <th>173</th>\n",
       "      <td>2019-08-02</td>\n",
       "      <td>B</td>\n",
       "      <td>1294</td>\n",
       "    </tr>\n",
       "    <tr>\n",
       "      <th>291</th>\n",
       "      <td>2019-08-03</td>\n",
       "      <td>A</td>\n",
       "      <td>1845</td>\n",
       "    </tr>\n",
       "    <tr>\n",
       "      <th>...</th>\n",
       "      <td>...</td>\n",
       "      <td>...</td>\n",
       "      <td>...</td>\n",
       "    </tr>\n",
       "    <tr>\n",
       "      <th>496</th>\n",
       "      <td>2019-08-29</td>\n",
       "      <td>B</td>\n",
       "      <td>17708</td>\n",
       "    </tr>\n",
       "    <tr>\n",
       "      <th>730</th>\n",
       "      <td>2019-08-30</td>\n",
       "      <td>A</td>\n",
       "      <td>18037</td>\n",
       "    </tr>\n",
       "    <tr>\n",
       "      <th>690</th>\n",
       "      <td>2019-08-30</td>\n",
       "      <td>B</td>\n",
       "      <td>18198</td>\n",
       "    </tr>\n",
       "    <tr>\n",
       "      <th>958</th>\n",
       "      <td>2019-08-31</td>\n",
       "      <td>A</td>\n",
       "      <td>18736</td>\n",
       "    </tr>\n",
       "    <tr>\n",
       "      <th>930</th>\n",
       "      <td>2019-08-31</td>\n",
       "      <td>B</td>\n",
       "      <td>18916</td>\n",
       "    </tr>\n",
       "  </tbody>\n",
       "</table>\n",
       "<p>62 rows × 3 columns</p>\n",
       "</div>"
      ],
      "text/plain": [
       "          date group  visitors\n",
       "55  2019-08-01     A       719\n",
       "66  2019-08-01     B       713\n",
       "175 2019-08-02     A      1338\n",
       "173 2019-08-02     B      1294\n",
       "291 2019-08-03     A      1845\n",
       "..         ...   ...       ...\n",
       "496 2019-08-29     B     17708\n",
       "730 2019-08-30     A     18037\n",
       "690 2019-08-30     B     18198\n",
       "958 2019-08-31     A     18736\n",
       "930 2019-08-31     B     18916\n",
       "\n",
       "[62 rows x 3 columns]"
      ]
     },
     "execution_count": 15,
     "metadata": {},
     "output_type": "execute_result"
    }
   ],
   "source": [
    "# получаем агрегированные кумулятивные по дням данные о посетителях интернет-магазина \n",
    "visitorsAggregated = (\n",
    "    datesGroups.apply(lambda x: visitors[np.logical_and(visitors['date'] <= x['date'], visitors['group'] == x['group'])]\n",
    "    .agg({'date' : 'max', 'group' : 'max', 'visitors' : 'sum'}), axis=1)\n",
    "    .sort_values(by=['date','group'])\n",
    ")\n",
    "visitorsAggregated"
   ]
  },
  {
   "cell_type": "code",
   "execution_count": 16,
   "metadata": {},
   "outputs": [],
   "source": [
    "# объединяем кумулятивные данные в одной таблице и присваиваем ее столбцам понятные названия\n",
    "cumulativeData = ordersAggregated.merge(visitorsAggregated, on=['date', 'group'])\n",
    "cumulativeData.columns = ['date', 'group', 'orders', 'buyers', 'revenue', 'visitors']\n"
   ]
  },
  {
   "cell_type": "code",
   "execution_count": 17,
   "metadata": {},
   "outputs": [],
   "source": [
    "#рассчитываем конверсию\n",
    "cumulativeData['conversion'] = cumulativeData['orders']/cumulativeData['visitors']"
   ]
  },
  {
   "cell_type": "code",
   "execution_count": 18,
   "metadata": {},
   "outputs": [
    {
     "data": {
      "text/html": [
       "<div>\n",
       "<style scoped>\n",
       "    .dataframe tbody tr th:only-of-type {\n",
       "        vertical-align: middle;\n",
       "    }\n",
       "\n",
       "    .dataframe tbody tr th {\n",
       "        vertical-align: top;\n",
       "    }\n",
       "\n",
       "    .dataframe thead th {\n",
       "        text-align: right;\n",
       "    }\n",
       "</style>\n",
       "<table border=\"1\" class=\"dataframe\">\n",
       "  <thead>\n",
       "    <tr style=\"text-align: right;\">\n",
       "      <th></th>\n",
       "      <th>date</th>\n",
       "      <th>group</th>\n",
       "      <th>orders</th>\n",
       "      <th>buyers</th>\n",
       "      <th>revenue</th>\n",
       "      <th>visitors</th>\n",
       "      <th>conversion</th>\n",
       "    </tr>\n",
       "  </thead>\n",
       "  <tbody>\n",
       "    <tr>\n",
       "      <th>0</th>\n",
       "      <td>2019-08-01</td>\n",
       "      <td>A</td>\n",
       "      <td>24</td>\n",
       "      <td>20</td>\n",
       "      <td>148579</td>\n",
       "      <td>719</td>\n",
       "      <td>0.033380</td>\n",
       "    </tr>\n",
       "    <tr>\n",
       "      <th>1</th>\n",
       "      <td>2019-08-01</td>\n",
       "      <td>B</td>\n",
       "      <td>21</td>\n",
       "      <td>20</td>\n",
       "      <td>101217</td>\n",
       "      <td>713</td>\n",
       "      <td>0.029453</td>\n",
       "    </tr>\n",
       "    <tr>\n",
       "      <th>2</th>\n",
       "      <td>2019-08-02</td>\n",
       "      <td>A</td>\n",
       "      <td>44</td>\n",
       "      <td>38</td>\n",
       "      <td>242401</td>\n",
       "      <td>1338</td>\n",
       "      <td>0.032885</td>\n",
       "    </tr>\n",
       "    <tr>\n",
       "      <th>3</th>\n",
       "      <td>2019-08-02</td>\n",
       "      <td>B</td>\n",
       "      <td>45</td>\n",
       "      <td>43</td>\n",
       "      <td>266748</td>\n",
       "      <td>1294</td>\n",
       "      <td>0.034776</td>\n",
       "    </tr>\n",
       "    <tr>\n",
       "      <th>4</th>\n",
       "      <td>2019-08-03</td>\n",
       "      <td>A</td>\n",
       "      <td>68</td>\n",
       "      <td>62</td>\n",
       "      <td>354874</td>\n",
       "      <td>1845</td>\n",
       "      <td>0.036856</td>\n",
       "    </tr>\n",
       "  </tbody>\n",
       "</table>\n",
       "</div>"
      ],
      "text/plain": [
       "        date group  orders  buyers  revenue  visitors  conversion\n",
       "0 2019-08-01     A      24      20   148579       719    0.033380\n",
       "1 2019-08-01     B      21      20   101217       713    0.029453\n",
       "2 2019-08-02     A      44      38   242401      1338    0.032885\n",
       "3 2019-08-02     B      45      43   266748      1294    0.034776\n",
       "4 2019-08-03     A      68      62   354874      1845    0.036856"
      ]
     },
     "execution_count": 18,
     "metadata": {},
     "output_type": "execute_result"
    }
   ],
   "source": [
    "cumulativeData.head()"
   ]
  },
  {
   "cell_type": "code",
   "execution_count": 19,
   "metadata": {},
   "outputs": [],
   "source": [
    "#делим данные по группам\n",
    "cumulativeDataA = cumulativeData[cumulativeData['group']=='A'][['date','revenue', 'orders','visitors','conversion']]\n",
    "cumulativeDataB = cumulativeData[cumulativeData['group']=='B'][['date','revenue', 'orders','visitors','conversion']]\n"
   ]
  },
  {
   "cell_type": "code",
   "execution_count": 20,
   "metadata": {
    "scrolled": false
   },
   "outputs": [
    {
     "data": {
      "image/png": "[encoded data removed]",
      "text/plain": [
       "<Figure size 864x432 with 1 Axes>"
      ]
     },
     "metadata": {
      "needs_background": "light"
     },
     "output_type": "display_data"
    }
   ],
   "source": [
    "#Построим графики кумулятивной выручки по дням и группам A/B-тестирования\n",
    "plt.figure(figsize=(12,6))\n",
    "plt.plot(cumulativeDataA['date'], cumulativeDataA['revenue'], label='A')\n",
    "plt.plot(cumulativeDataB['date'], cumulativeDataB['revenue'], label='B')\n",
    "plt.title('Кумулятивная выручка по дням и группам A/B-тестирования')\n",
    "plt.ylabel('Кумулятивная выручка, млн.')\n",
    "plt.legend();\n"
   ]
  },
  {
   "cell_type": "markdown",
   "metadata": {},
   "source": [
    "Выручка в обеих группах растет со временем. На протяжении всего периода проведения теста выручка в группе B превышает аналогичные значения группы A. Однако в группе B наблюдается резкий скачок выручки. Это может быть связано с дорогими товарами в заказах или всплеском количества заказов. Необходимо проверить данные на аномалии. "
   ]
  },
  {
   "cell_type": "markdown",
   "metadata": {},
   "source": [
    "### Анализ кумулятивного среднего чека по группам"
   ]
  },
  {
   "cell_type": "code",
   "execution_count": 21,
   "metadata": {},
   "outputs": [
    {
     "data": {
      "image/png": "[encoded data removed]",
      "text/plain": [
       "<Figure size 864x432 with 1 Axes>"
      ]
     },
     "metadata": {
      "needs_background": "light"
     },
     "output_type": "display_data"
    }
   ],
   "source": [
    "plt.figure(figsize=(12,6))\n",
    "plt.plot(cumulativeDataA['date'], cumulativeDataA['revenue']/cumulativeDataA['orders'], label='A')\n",
    "plt.plot(cumulativeDataB['date'], cumulativeDataB['revenue']/cumulativeDataB['orders'], label='B')\n",
    "plt.title('Средний чек по дням и группам A/B-тестирования')\n",
    "plt.ylabel('Средняя сумма покупок')\n",
    "plt.legend();\n"
   ]
  },
  {
   "cell_type": "markdown",
   "metadata": {},
   "source": [
    "Средний чек в обеих группах становится равномерным ближе к концу периода: для группы A продолжает немного расти, для группы B немного падает. Скорее всего динамика связана с наличием крупных заказов в середине тестирования в группе B (резкий всплеск на графике) и небольшими заказами в группе A в начале тестирования (падение на графике). В этом случае необходимо больше данных, чтобы прийти к реальному среднему чеку и установиться на его уровне."
   ]
  },
  {
   "cell_type": "code",
   "execution_count": 22,
   "metadata": {},
   "outputs": [
    {
     "data": {
      "image/png": "[encoded data removed]",
      "text/plain": [
       "<Figure size 864x432 with 1 Axes>"
      ]
     },
     "metadata": {
      "needs_background": "light"
     },
     "output_type": "display_data"
    }
   ],
   "source": [
    "#Построим график относительного изменения кумулятивного среднего чека группы B к группе A\n",
    "cumulativeDataAB = cumulativeDataA.merge(cumulativeDataB, on='date', how='left', suffixes=['A', 'B'])\n",
    "plt.figure(figsize=(12,6))\n",
    "plt.plot(cumulativeDataAB['date'], (cumulativeDataAB['revenueB']/cumulativeDataAB['ordersB'])/(cumulativeDataAB['revenueA']/cumulativeDataAB['ordersA'])-1)\n",
    "plt.title('Относительное изменение кумулятивного среднего чека группы B к группе A')\n",
    "plt.axhline(y=0, color='black', linestyle='--') \n",
    "plt.ylabel('Относительное изменение');"
   ]
  },
  {
   "cell_type": "markdown",
   "metadata": {},
   "source": [
    "Резкие скачки на графике так же свидетельсвуют о наличии выбросов."
   ]
  },
  {
   "cell_type": "markdown",
   "metadata": {},
   "source": [
    "### Анализ кумулятивного среднего количества заказов на посетителя по группам"
   ]
  },
  {
   "cell_type": "code",
   "execution_count": 23,
   "metadata": {},
   "outputs": [
    {
     "data": {
      "image/png": "[encoded data removed]",
      "text/plain": [
       "<Figure size 864x432 with 1 Axes>"
      ]
     },
     "metadata": {
      "needs_background": "light"
     },
     "output_type": "display_data"
    }
   ],
   "source": [
    "#Построим график кумулятивного среднего количества заказов на посетителя по группам\n",
    "plt.figure(figsize=(12,6))\n",
    "plt.plot(cumulativeDataA['date'],cumulativeDataA['conversion'], label='A')\n",
    "plt.plot(cumulativeDataB['date'],cumulativeDataB['conversion'], label='B')\n",
    "plt.grid()\n",
    "plt.title('Кумулятивное среднее количества заказов на посетителя по группам')\n",
    "plt.ylabel('Cреднее количества заказов на посетителя')\n",
    "plt.legend();"
   ]
  },
  {
   "cell_type": "code",
   "execution_count": 24,
   "metadata": {},
   "outputs": [
    {
     "data": {
      "image/png": "[encoded data removed]",
      "text/plain": [
       "<Figure size 864x432 with 1 Axes>"
      ]
     },
     "metadata": {
      "needs_background": "light"
     },
     "output_type": "display_data"
    }
   ],
   "source": [
    "#Построим график изменения кумулятивного среднего количества заказов на посетителя группы B к группе A\n",
    "plt.figure(figsize=(12,6))\n",
    "plt.plot(cumulativeDataAB['date'], cumulativeDataAB['conversionB']/cumulativeDataAB['conversionA']-1)\n",
    "plt.grid()\n",
    "plt.title('Изменение кумулятивного среднего количества заказов на посетителя группы B к группе A')\n",
    "plt.ylabel('Изменение количества заказов')\n",
    "plt.axhline(y=0, color='black', linestyle='--')\n",
    "plt.axhline(y=0.12, color='black', linestyle='--'); "
   ]
  },
  {
   "cell_type": "code",
   "execution_count": 25,
   "metadata": {},
   "outputs": [
    {
     "data": {
      "text/plain": [
       "0.12923832937150004"
      ]
     },
     "execution_count": 25,
     "metadata": {},
     "output_type": "execute_result"
    }
   ],
   "source": [
    "(cumulativeDataAB['conversionB']/cumulativeDataAB['conversionA']-1).median()"
   ]
  },
  {
   "cell_type": "markdown",
   "metadata": {},
   "source": [
    "Кумулятивное среднее количество заказов на одного посетителя в группе B стабильно выше, чем в группе A. К концу периода разница установилась на уровне 12-13%. "
   ]
  },
  {
   "cell_type": "markdown",
   "metadata": {},
   "source": [
    "### Анализ выбросов"
   ]
  },
  {
   "cell_type": "code",
   "execution_count": 26,
   "metadata": {},
   "outputs": [],
   "source": [
    "#Построим точечный график количества заказов по пользователям\n",
    "orders_by_users = orders.groupby('visitorId',as_index=False).agg({'transactionId':'nunique'})\n",
    "orders_by_users.columns=['visitorId','orders']"
   ]
  },
  {
   "cell_type": "code",
   "execution_count": 27,
   "metadata": {},
   "outputs": [
    {
     "data": {
      "image/png": "[encoded data removed]",
      "text/plain": [
       "<Figure size 432x288 with 1 Axes>"
      ]
     },
     "metadata": {
      "needs_background": "light"
     },
     "output_type": "display_data"
    }
   ],
   "source": [
    "orders_by_users['orders'].hist()\n",
    "plt.title('Распределение количества заказов по пользователям')\n",
    "plt.ylabel('Кол-во пользователей')\n",
    "plt.xlabel('Кол-во заказов');"
   ]
  },
  {
   "cell_type": "code",
   "execution_count": 28,
   "metadata": {},
   "outputs": [
    {
     "data": {
      "image/png": "[encoded data removed]",
      "text/plain": [
       "<Figure size 432x288 with 1 Axes>"
      ]
     },
     "metadata": {
      "needs_background": "light"
     },
     "output_type": "display_data"
    }
   ],
   "source": [
    "x_values = pd.Series(range(0,len(orders_by_users['orders'])))\n",
    "plt.scatter(x_values, orders_by_users['orders'])\n",
    "plt.title('Распределение количества заказов по пользователям')\n",
    "plt.ylabel('Кол-во заказов')\n",
    "plt.xlabel('Пользователь');"
   ]
  },
  {
   "cell_type": "code",
   "execution_count": 29,
   "metadata": {},
   "outputs": [
    {
     "data": {
      "text/plain": [
       "1     937\n",
       "2      64\n",
       "3      17\n",
       "5       6\n",
       "4       3\n",
       "11      2\n",
       "8       1\n",
       "9       1\n",
       "Name: orders, dtype: int64"
      ]
     },
     "execution_count": 29,
     "metadata": {},
     "output_type": "execute_result"
    }
   ],
   "source": [
    "orders_by_users['orders'].value_counts()"
   ]
  },
  {
   "cell_type": "code",
   "execution_count": 30,
   "metadata": {},
   "outputs": [
    {
     "data": {
      "text/plain": [
       "array([1., 2., 4.])"
      ]
     },
     "execution_count": 30,
     "metadata": {},
     "output_type": "execute_result"
    }
   ],
   "source": [
    "np.percentile(orders_by_users['orders'],[90,95,99])"
   ]
  },
  {
   "cell_type": "markdown",
   "metadata": {},
   "source": [
    "На графике видно, что есть пользователи, совершившие более 5 заказов. Расчет перцентилей показал, что таких пользователей менее 1% (99% пользователей сделали не более 4 заказов). Отсечем пользователей, совершивших более 5 заказов, как аномальных."
   ]
  },
  {
   "cell_type": "code",
   "execution_count": 31,
   "metadata": {},
   "outputs": [
    {
     "data": {
      "image/png": "[encoded data removed]",
      "text/plain": [
       "<Figure size 432x288 with 1 Axes>"
      ]
     },
     "metadata": {
      "needs_background": "light"
     },
     "output_type": "display_data"
    }
   ],
   "source": [
    "#Построим точечный график стоимостей заказов\n",
    "x_values = pd.Series(range(0,len(orders['revenue'])))\n",
    "plt.scatter(x_values, orders['revenue'])\n",
    "plt.axhline(y=200000, color='black', linestyle='--')\n",
    "plt.title('Распределение стоимости заказов')\n",
    "plt.ylabel('Стоимость заказа')\n",
    "plt.xlabel('Номер заказа');\n"
   ]
  },
  {
   "cell_type": "code",
   "execution_count": 32,
   "metadata": {},
   "outputs": [
    {
     "data": {
      "text/plain": [
       "array([18168. , 28000. , 58233.2])"
      ]
     },
     "execution_count": 32,
     "metadata": {},
     "output_type": "execute_result"
    }
   ],
   "source": [
    "#найдем 90, 95, 99 перцентили\n",
    "np.percentile(orders['revenue'],[90, 95, 99])"
   ]
  },
  {
   "cell_type": "code",
   "execution_count": 33,
   "metadata": {},
   "outputs": [
    {
     "data": {
      "image/png": "[encoded data removed]",
      "text/plain": [
       "<Figure size 432x288 with 1 Axes>"
      ]
     },
     "metadata": {
      "needs_background": "light"
     },
     "output_type": "display_data"
    }
   ],
   "source": [
    "#Построим точечный график стоимостей заказов\n",
    "orders_norm = orders[orders['revenue']<=200000]['revenue']\n",
    "x_values = pd.Series(range(0,len(orders_norm)))\n",
    "plt.scatter(x_values, orders_norm)\n",
    "plt.axhline(y=60000, color='black', linestyle='--')\n",
    "plt.title('Распределение стоимости заказов менее 200000 руб.')\n",
    "plt.ylabel('Стоимость заказа')\n",
    "plt.xlabel('Номер заказа');"
   ]
  },
  {
   "cell_type": "markdown",
   "metadata": {},
   "source": [
    "График показывает, что заказов, стоимостью выше 200 000 руб. практически нет. 99% заказов были стоимостью не выше 58 233,2 рублей. При этом не более 5% заказов дороже 28 000 руб. Отбросим аномальные значения свыше 60 000 рублей."
   ]
  },
  {
   "cell_type": "markdown",
   "metadata": {},
   "source": [
    "### Расчет статистической значимости различий в среднем количестве заказов на посетителя между группами по «сырым» данным. "
   ]
  },
  {
   "cell_type": "markdown",
   "metadata": {},
   "source": [
    "Посчитаем статистическую значимость различий в среднем числе заказов на пользователя между группами по «сырым» данным — без удаления аномальных пользователей.<br>\n",
    "Сформулируем гипотезу: различий в среднем количестве заказов между группами нет.<br>\n",
    "Альтернативная гипотеза: различия в среднем количестве заказов между группами есть."
   ]
  },
  {
   "cell_type": "code",
   "execution_count": 34,
   "metadata": {},
   "outputs": [],
   "source": [
    "ordersDailyA = (\n",
    "    orders.query('group==\"A\"')[['date', 'transactionId','visitorId','revenue']]\n",
    "    .groupby('date', as_index=False).agg({'transactionId':'nunique', 'revenue':'sum' })\n",
    ")\n",
    "ordersDailyA.columns = ['date', 'ordersPerDateA', 'revenuePerDateA']"
   ]
  },
  {
   "cell_type": "code",
   "execution_count": 35,
   "metadata": {},
   "outputs": [],
   "source": [
    "ordersDailyB = (\n",
    "    orders.query('group==\"B\"')[['date', 'transactionId','visitorId','revenue']]\n",
    "    .groupby('date', as_index=False).agg({'transactionId':'nunique', 'revenue':'sum' })\n",
    ")\n",
    "ordersDailyB.columns = ['date', 'ordersPerDateB', 'revenuePerDateB']"
   ]
  },
  {
   "cell_type": "code",
   "execution_count": 36,
   "metadata": {},
   "outputs": [],
   "source": [
    "visitorsDailyA = visitors.query('group==\"A\"')[['date', 'visitors']]\n",
    "visitorsDailyA.columns = ['date', 'visitorsPerDateA']\n",
    "visitorsDailyB = visitors.query('group==\"B\"')[['date', 'visitors']]\n",
    "visitorsDailyB.columns = ['date', 'visitorsPerDateB']\n"
   ]
  },
  {
   "cell_type": "code",
   "execution_count": 37,
   "metadata": {},
   "outputs": [],
   "source": [
    "data_for_test = (\n",
    "    ordersDailyA.merge(ordersDailyB, on='date', how='left')\n",
    "    .merge(visitorsDailyA, on='date', how='left')\n",
    "    .merge(visitorsDailyB, on='date', how='left')\n",
    "    .merge(cumulativeDataAB[['date','revenueA','ordersA', 'visitorsA', 'revenueB','ordersB', 'visitorsB']],\n",
    "        on='date', how='left')\n",
    ")\n"
   ]
  },
  {
   "cell_type": "code",
   "execution_count": 38,
   "metadata": {},
   "outputs": [
    {
     "data": {
      "text/html": [
       "<div>\n",
       "<style scoped>\n",
       "    .dataframe tbody tr th:only-of-type {\n",
       "        vertical-align: middle;\n",
       "    }\n",
       "\n",
       "    .dataframe tbody tr th {\n",
       "        vertical-align: top;\n",
       "    }\n",
       "\n",
       "    .dataframe thead th {\n",
       "        text-align: right;\n",
       "    }\n",
       "</style>\n",
       "<table border=\"1\" class=\"dataframe\">\n",
       "  <thead>\n",
       "    <tr style=\"text-align: right;\">\n",
       "      <th></th>\n",
       "      <th>date</th>\n",
       "      <th>ordersPerDateA</th>\n",
       "      <th>revenuePerDateA</th>\n",
       "      <th>ordersPerDateB</th>\n",
       "      <th>revenuePerDateB</th>\n",
       "      <th>visitorsPerDateA</th>\n",
       "      <th>visitorsPerDateB</th>\n",
       "      <th>revenueA</th>\n",
       "      <th>ordersA</th>\n",
       "      <th>visitorsA</th>\n",
       "      <th>revenueB</th>\n",
       "      <th>ordersB</th>\n",
       "      <th>visitorsB</th>\n",
       "    </tr>\n",
       "  </thead>\n",
       "  <tbody>\n",
       "    <tr>\n",
       "      <th>0</th>\n",
       "      <td>2019-08-01</td>\n",
       "      <td>24</td>\n",
       "      <td>148579</td>\n",
       "      <td>21</td>\n",
       "      <td>101217</td>\n",
       "      <td>719</td>\n",
       "      <td>713</td>\n",
       "      <td>148579</td>\n",
       "      <td>24</td>\n",
       "      <td>719</td>\n",
       "      <td>101217</td>\n",
       "      <td>21</td>\n",
       "      <td>713</td>\n",
       "    </tr>\n",
       "    <tr>\n",
       "      <th>1</th>\n",
       "      <td>2019-08-02</td>\n",
       "      <td>20</td>\n",
       "      <td>93822</td>\n",
       "      <td>24</td>\n",
       "      <td>165531</td>\n",
       "      <td>619</td>\n",
       "      <td>581</td>\n",
       "      <td>242401</td>\n",
       "      <td>44</td>\n",
       "      <td>1338</td>\n",
       "      <td>266748</td>\n",
       "      <td>45</td>\n",
       "      <td>1294</td>\n",
       "    </tr>\n",
       "    <tr>\n",
       "      <th>2</th>\n",
       "      <td>2019-08-03</td>\n",
       "      <td>24</td>\n",
       "      <td>112473</td>\n",
       "      <td>16</td>\n",
       "      <td>114248</td>\n",
       "      <td>507</td>\n",
       "      <td>509</td>\n",
       "      <td>354874</td>\n",
       "      <td>68</td>\n",
       "      <td>1845</td>\n",
       "      <td>380996</td>\n",
       "      <td>61</td>\n",
       "      <td>1803</td>\n",
       "    </tr>\n",
       "    <tr>\n",
       "      <th>3</th>\n",
       "      <td>2019-08-04</td>\n",
       "      <td>16</td>\n",
       "      <td>70825</td>\n",
       "      <td>17</td>\n",
       "      <td>108571</td>\n",
       "      <td>717</td>\n",
       "      <td>770</td>\n",
       "      <td>425699</td>\n",
       "      <td>84</td>\n",
       "      <td>2562</td>\n",
       "      <td>489567</td>\n",
       "      <td>78</td>\n",
       "      <td>2573</td>\n",
       "    </tr>\n",
       "    <tr>\n",
       "      <th>4</th>\n",
       "      <td>2019-08-05</td>\n",
       "      <td>25</td>\n",
       "      <td>124218</td>\n",
       "      <td>23</td>\n",
       "      <td>92428</td>\n",
       "      <td>756</td>\n",
       "      <td>707</td>\n",
       "      <td>549917</td>\n",
       "      <td>109</td>\n",
       "      <td>3318</td>\n",
       "      <td>581995</td>\n",
       "      <td>101</td>\n",
       "      <td>3280</td>\n",
       "    </tr>\n",
       "  </tbody>\n",
       "</table>\n",
       "</div>"
      ],
      "text/plain": [
       "        date  ordersPerDateA  revenuePerDateA  ordersPerDateB  \\\n",
       "0 2019-08-01              24           148579              21   \n",
       "1 2019-08-02              20            93822              24   \n",
       "2 2019-08-03              24           112473              16   \n",
       "3 2019-08-04              16            70825              17   \n",
       "4 2019-08-05              25           124218              23   \n",
       "\n",
       "   revenuePerDateB  visitorsPerDateA  visitorsPerDateB  revenueA  ordersA  \\\n",
       "0           101217               719               713    148579       24   \n",
       "1           165531               619               581    242401       44   \n",
       "2           114248               507               509    354874       68   \n",
       "3           108571               717               770    425699       84   \n",
       "4            92428               756               707    549917      109   \n",
       "\n",
       "   visitorsA  revenueB  ordersB  visitorsB  \n",
       "0        719    101217       21        713  \n",
       "1       1338    266748       45       1294  \n",
       "2       1845    380996       61       1803  \n",
       "3       2562    489567       78       2573  \n",
       "4       3318    581995      101       3280  "
      ]
     },
     "execution_count": 38,
     "metadata": {},
     "output_type": "execute_result"
    }
   ],
   "source": [
    "data_for_test.head()"
   ]
  },
  {
   "cell_type": "code",
   "execution_count": 39,
   "metadata": {},
   "outputs": [],
   "source": [
    "#посчитаем количество заказов на одного пользователя для тех, кто совершил хотя бы один заказ, по группам\n",
    "ordersByUsersA = (\n",
    "    orders.query('group==\"A\"')\n",
    "    .groupby('visitorId', as_index=False)\n",
    "    .agg({'transactionId': 'nunique'})\n",
    ")\n",
    "ordersByUsersA.columns = ['visitorId', 'orders']\n",
    "ordersByUsersB = (\n",
    "    orders.query('group==\"B\"')\n",
    "    .groupby('visitorId', as_index=False)\n",
    "    .agg({'transactionId': 'nunique'})\n",
    ")\n",
    "ordersByUsersB.columns = ['visitorId', 'orders']"
   ]
  },
  {
   "cell_type": "code",
   "execution_count": 40,
   "metadata": {},
   "outputs": [],
   "source": [
    "#добавим пользователей, которые ничего не заказали (кол-во заказов 0)\n",
    "sampleA = pd.concat([ordersByUsersA['orders'],pd.Series(0, index=np.arange(data_for_test['visitorsPerDateA'].sum() - len(ordersByUsersA['orders'])), name='orders')],axis=0)\n",
    "sampleB = pd.concat([ordersByUsersB['orders'],pd.Series(0, index=np.arange(data_for_test['visitorsPerDateB'].sum() - len(ordersByUsersB['orders'])), name='orders')],axis=0)\n"
   ]
  },
  {
   "cell_type": "code",
   "execution_count": 41,
   "metadata": {},
   "outputs": [
    {
     "name": "stdout",
     "output_type": "stream",
     "text": [
      "p-value 0.017\n"
     ]
    }
   ],
   "source": [
    "#применим критерий Манна-Уитни\n",
    "print('p-value',\"{0:.3f}\".format(stats.mannwhitneyu(sampleA, sampleB)[1]))"
   ]
  },
  {
   "cell_type": "code",
   "execution_count": 42,
   "metadata": {},
   "outputs": [
    {
     "name": "stdout",
     "output_type": "stream",
     "text": [
      "0.138\n"
     ]
    }
   ],
   "source": [
    "#Выведем относительный прирост среднего числа заказов группы B\n",
    "print(\"{0:.3f}\".format(sampleB.mean() / sampleA.mean() - 1))"
   ]
  },
  {
   "cell_type": "markdown",
   "metadata": {},
   "source": [
    "Значение p-value меньше 0,05, следовательно, гипотезу о том, что различий в количестве заказов нет, отвергаем. Наличие различий подтвержадется приростом группы B к группе A."
   ]
  },
  {
   "cell_type": "markdown",
   "metadata": {},
   "source": [
    "### Расчет статистической значимости различий в среднем чеке между группами по «сырым» данным."
   ]
  },
  {
   "cell_type": "markdown",
   "metadata": {},
   "source": [
    "Сформулируем гипотезу: различий в среднем чеке между группами нет.<br>\n",
    "Альтернативная гипотеза: различия в среднем чеке между группами есть."
   ]
  },
  {
   "cell_type": "code",
   "execution_count": 43,
   "metadata": {},
   "outputs": [
    {
     "name": "stdout",
     "output_type": "stream",
     "text": [
      "p-value 0.729\n"
     ]
    }
   ],
   "source": [
    "#посчитаем статистическую значимость различий в среднем чеке заказа между группами по «сырым» данным\n",
    "print('p-value',\"{0:.3f}\".format(stats.mannwhitneyu(orders.query('group==\"A\"')['revenue'],orders.query('group==\"B\"')['revenue'] )[1]))"
   ]
  },
  {
   "cell_type": "code",
   "execution_count": 44,
   "metadata": {},
   "outputs": [
    {
     "name": "stdout",
     "output_type": "stream",
     "text": [
      "0.259\n"
     ]
    }
   ],
   "source": [
    "#Выведем относительный прирост среднего чека заказов группы B по отношению к группе А\n",
    "\n",
    "print(\"{0:.3f}\".format(orders.query('group==\"B\"')['revenue'].mean()/orders.query('group==\"A\"')['revenue'].mean()-1))"
   ]
  },
  {
   "cell_type": "markdown",
   "metadata": {},
   "source": [
    "Гипотеза различий в среднем чеке между группами A и B подтверждается. Однако средний чек группы B на 25,9% выше, чем средний чек группы A. Причина, скорее всего, кроется в наличии выбросов"
   ]
  },
  {
   "cell_type": "markdown",
   "metadata": {},
   "source": [
    "### Расчет статистической значимости различий в среднем количестве заказов на посетителя между группами по «очищенным» данным."
   ]
  },
  {
   "cell_type": "markdown",
   "metadata": {},
   "source": [
    "Посчитаем статистическую значимость различий в среднем количестве заказов на посетителя между группами по «очищенным» данным. За аномальных пользователей примем тех, кто сделал более 4 заказов или тех, у кого сумма заказа более 60 000 рублей. <br>\n",
    "Нулевая гипотеза: различий в среднем количестве заказов между группами нет.<br>\n",
    "Альтернативная гипотеза: различия в среднем количестве заказов между группами есть."
   ]
  },
  {
   "cell_type": "code",
   "execution_count": 45,
   "metadata": {},
   "outputs": [],
   "source": [
    "#найдем \"аномальных\" пользователей\n",
    "users_many_orders = orders_by_users.query('orders>5')['visitorId']\n",
    "users_expencive_orders = orders.query('revenue>60000')['visitorId']\n",
    "abnormal_users = pd.concat([users_many_orders,users_expencive_orders], axis=0).drop_duplicates().sort_values()"
   ]
  },
  {
   "cell_type": "code",
   "execution_count": 46,
   "metadata": {},
   "outputs": [
    {
     "data": {
      "text/plain": [
       "14"
      ]
     },
     "execution_count": 46,
     "metadata": {},
     "output_type": "execute_result"
    }
   ],
   "source": [
    "abnormal_users.count()"
   ]
  },
  {
   "cell_type": "code",
   "execution_count": 47,
   "metadata": {},
   "outputs": [],
   "source": [
    "sampleAFiltered = pd.concat(\n",
    "    [ordersByUsersA[np.logical_not(ordersByUsersA['visitorId'].isin(abnormal_users))]['orders'],\n",
    "        pd.Series(0, index=np.arange(data_for_test['visitorsPerDateA'].sum() - len(ordersByUsersA['orders'])),\n",
    "            name='orders')],\n",
    "    axis=0,\n",
    ")\n",
    "sampleBFiltered = pd.concat(\n",
    "    [ordersByUsersB[np.logical_not(ordersByUsersB['visitorId'].isin(abnormal_users))]['orders'],\n",
    "        pd.Series(0, index=np.arange(data_for_test['visitorsPerDateB'].sum() - len(ordersByUsersB['orders'])),\n",
    "            name='orders')],\n",
    "    axis=0,\n",
    ")"
   ]
  },
  {
   "cell_type": "code",
   "execution_count": 48,
   "metadata": {},
   "outputs": [
    {
     "name": "stdout",
     "output_type": "stream",
     "text": [
      "0.013\n",
      "0.155\n"
     ]
    }
   ],
   "source": [
    "print('{0:.3f}'.format(stats.mannwhitneyu(sampleAFiltered, sampleBFiltered)[1]))\n",
    "print('{0:.3f}'.format(sampleBFiltered.mean()/sampleAFiltered.mean()-1)) "
   ]
  },
  {
   "cell_type": "markdown",
   "metadata": {},
   "source": [
    "В результате анализа аномальных значений мы отбросили данные по 14 пользователям, стоимость заказов которых превышала 60000 руб., а количество закзаов было больше 5. Результаты по среднему количеству заказов остались практически теми же. Значение p-value меньше 0,05. Гипотезу о том, что различий в количестве заказов нет, отвергаем. Наличие различий подтвержадется приростом группы B к группе A (15.5% по \"очищенным\" данным)."
   ]
  },
  {
   "cell_type": "markdown",
   "metadata": {},
   "source": [
    "### Расчет статистической значимости различий в среднем чеке между группами по «очищенным» данным."
   ]
  },
  {
   "cell_type": "markdown",
   "metadata": {},
   "source": [
    "Нулевая гипотеза: различий в среднем чеке между группами нет.<br>\n",
    "Альтернативная гипотеза: различия в среднем чеке между группами есть."
   ]
  },
  {
   "cell_type": "code",
   "execution_count": 49,
   "metadata": {},
   "outputs": [
    {
     "name": "stdout",
     "output_type": "stream",
     "text": [
      "0.814\n"
     ]
    }
   ],
   "source": [
    "print('{0:.3f}'.format(stats.mannwhitneyu(orders[np.logical_and(orders['group'] == 'A',\n",
    "                    np.logical_not(orders['visitorId'].isin(abnormal_users)))]['revenue'],\n",
    "            orders[np.logical_and(orders['group'] == 'B',\n",
    "                    np.logical_not(orders['visitorId'].isin(abnormal_users)))]['revenue'])[1]\n",
    "    )\n",
    ")"
   ]
  },
  {
   "cell_type": "code",
   "execution_count": 50,
   "metadata": {},
   "outputs": [
    {
     "name": "stdout",
     "output_type": "stream",
     "text": [
      "0.007\n"
     ]
    }
   ],
   "source": [
    "print(\"{0:.3f}\".format(orders[np.logical_and(orders['group'] == 'B',\n",
    "                np.logical_not(orders['visitorId'].isin(abnormal_users)))]['revenue'].mean()\n",
    "        / orders[np.logical_and(orders['group'] == 'A',\n",
    "                np.logical_not(orders['visitorId'].isin(abnormal_users)))]['revenue'].mean() - 1)\n",
    ") "
   ]
  },
  {
   "cell_type": "markdown",
   "metadata": {},
   "source": [
    "P-value подросло, а разница в среднем чеке близка к 0 и составила 0,7% вместо 25%."
   ]
  },
  {
   "cell_type": "markdown",
   "metadata": {},
   "source": [
    "## Вывод"
   ]
  },
  {
   "cell_type": "markdown",
   "metadata": {},
   "source": [
    "В результате анализа представленных данных можно сказать следуещее:\n",
    "1. Исходные данные для проведения приоритизации гипотез содержал 9 гипотез по увеличению выручки интернет-магазина с параметрами Reach, Impact, Confidence, Effort.\n",
    "В результате расчет методом ICE были выявлены 3 наиболее перспективные гипотезы: гипотезы с номером 8 (16 баллов), 0 (13,3 балла) и 7 (11,2 балла).\n",
    "С учетом параметра, отражающего количество пользователей, которых затронет изменение, наиболее перспективными оказались гипотезы с номерами 7 (112 баллов), 2 (56 баллов), 0 (40 баллов), 6 (40 баллов). Таким образом, учитывая результаты обоих методов оценки наиболее перспективной выглядит гипотеза 7.\n",
    "\n",
    "2. Данные о результатах A/B тестирования представлены за период с 1 по 31 августа 2019 года. По полученным данным был проведен расчет и анализ кумулятивных показателей выручки, среднего чека, конверсии по тестируемым группам. Проведен анализ \"выбросов\" и проведена оценка статистической значимости указанных параметров по \"сырым\" и \"очищенным\" данным. \n",
    "В результате анализа аномальных значений мы отбросили данные по 14 пользователям, стоимость заказов которых превышала 60000 руб., а количество закзаов было больше 5.<br>\n",
    "Были получены следующие результаты:\n",
    "2.1. Выручка в обеих группах растет со временем. На протяжении всего периода проведения теста выручка в группе B превышает аналогичные значения группы A. Однако в группе B наблюдается резкий скачок выручки. Что связано с дорогими товарами в заказах или всплеском количества заказов.\n",
    "2.2. Средний чек в обеих группах становится равномерным ближе к концу периода: для группы A продолжает немного расти, для группы B немного падает. Наблюдается скачок в середине периода в группе B, связанный с аномально большой стоимостью заказа.\n",
    "2.3. Кумулятивное среднее количество заказов на одного посетителя в группе B стабильно выше, чем в группе A. К концу периода разница установилась на уровне 12-13%. \n",
    "3. Анализ сатистической значимости различий в расчитанных показателях между группами показал, что: \n",
    "3.1. Гипотеза \"различий в среднем количестве заказов между группами нет\" не подтвердилась. Как по \"сырым\", так и по \"очищенным\" данным значение p-value меньше 0,05. Наличие различий подтвержадется приростом группы B к группе A (15,5% по \"очищенным\" данным и 13,8% по \"сырым\" данным).\n",
    "3.2. Гипотеза \"различий между средним чеком по группам нет\" подтверждается. Однако, заметим, что средний чек группы B по \"сырым\" данным был на 25,9% выше, чем средний чек группы A. Причина заключалась в наличии заказов с аномально высокой стоимостью. Корректировка данных на выбросы привела к увеличению p-value и снижению разницы в среднем чеке между группами до 0,7%.<br>\n",
    "\n",
    "Таким образом, данных достаточно для того, чтобы говорить о \"победе\" группы B по результатам тестирования и прекратить тест. При отсутствии значимых изменений в среднем чеке, конверсия здесь больше, что приводит к более высоким показателям выручки. "
   ]
  }
 ],
 "metadata": {
  "ExecuteTimeLog": [
   {
    "duration": 53,
    "start_time": "2024-04-21T09:26:08.086Z"
   },
   {
    "duration": 423,
    "start_time": "2024-04-21T09:26:18.176Z"
   },
   {
    "duration": 82,
    "start_time": "2024-04-21T09:26:20.232Z"
   },
   {
    "duration": 39,
    "start_time": "2024-04-21T09:26:27.262Z"
   },
   {
    "duration": 12,
    "start_time": "2024-04-21T09:28:15.235Z"
   },
   {
    "duration": 30,
    "start_time": "2024-04-21T09:28:28.417Z"
   },
   {
    "duration": 11,
    "start_time": "2024-04-21T09:28:33.725Z"
   },
   {
    "duration": 6,
    "start_time": "2024-04-21T09:33:45.516Z"
   },
   {
    "duration": 18,
    "start_time": "2024-04-21T09:35:47.599Z"
   },
   {
    "duration": 3,
    "start_time": "2024-04-21T15:36:58.118Z"
   },
   {
    "duration": 422,
    "start_time": "2024-04-21T15:37:06.607Z"
   },
   {
    "duration": 83,
    "start_time": "2024-04-21T15:37:07.031Z"
   },
   {
    "duration": 11,
    "start_time": "2024-04-21T15:37:07.115Z"
   },
   {
    "duration": 13,
    "start_time": "2024-04-21T15:37:07.128Z"
   },
   {
    "duration": 13,
    "start_time": "2024-04-21T15:37:07.142Z"
   },
   {
    "duration": 3,
    "start_time": "2024-04-21T15:37:07.157Z"
   },
   {
    "duration": 149,
    "start_time": "2024-04-21T15:37:07.162Z"
   },
   {
    "duration": 2,
    "start_time": "2024-04-21T15:37:16.378Z"
   },
   {
    "duration": 113,
    "start_time": "2024-04-21T15:48:30.575Z"
   },
   {
    "duration": 68,
    "start_time": "2024-04-21T15:48:59.559Z"
   },
   {
    "duration": 57,
    "start_time": "2024-04-21T15:49:16.417Z"
   },
   {
    "duration": 79,
    "start_time": "2024-04-21T15:59:52.813Z"
   },
   {
    "duration": 58,
    "start_time": "2024-04-21T16:00:28.062Z"
   },
   {
    "duration": 7,
    "start_time": "2024-04-21T16:01:02.797Z"
   },
   {
    "duration": 88,
    "start_time": "2024-04-21T16:02:49.159Z"
   },
   {
    "duration": 4,
    "start_time": "2024-04-21T16:05:00.900Z"
   },
   {
    "duration": 4,
    "start_time": "2024-04-21T16:05:21.886Z"
   },
   {
    "duration": 6,
    "start_time": "2024-04-21T16:42:50.599Z"
   },
   {
    "duration": 13,
    "start_time": "2024-04-21T16:43:05.445Z"
   },
   {
    "duration": 6,
    "start_time": "2024-04-21T16:43:37.183Z"
   },
   {
    "duration": 67,
    "start_time": "2024-04-21T16:45:29.703Z"
   },
   {
    "duration": 61,
    "start_time": "2024-04-21T16:46:05.202Z"
   },
   {
    "duration": 17,
    "start_time": "2024-04-21T16:46:10.177Z"
   },
   {
    "duration": 743,
    "start_time": "2024-04-21T16:47:21.859Z"
   },
   {
    "duration": 38,
    "start_time": "2024-04-21T16:47:22.604Z"
   },
   {
    "duration": 12,
    "start_time": "2024-04-21T16:47:22.643Z"
   },
   {
    "duration": 7,
    "start_time": "2024-04-21T16:47:22.656Z"
   },
   {
    "duration": 12,
    "start_time": "2024-04-21T16:47:22.665Z"
   },
   {
    "duration": 48,
    "start_time": "2024-04-21T16:47:22.678Z"
   },
   {
    "duration": 19,
    "start_time": "2024-04-21T16:47:22.728Z"
   },
   {
    "duration": 3,
    "start_time": "2024-04-21T16:47:22.749Z"
   },
   {
    "duration": 7,
    "start_time": "2024-04-21T16:47:22.754Z"
   },
   {
    "duration": 171,
    "start_time": "2024-04-21T16:47:22.763Z"
   },
   {
    "duration": 177,
    "start_time": "2024-04-21T16:47:35.702Z"
   },
   {
    "duration": 125,
    "start_time": "2024-04-21T16:48:52.208Z"
   },
   {
    "duration": 68,
    "start_time": "2024-04-21T17:07:51.372Z"
   },
   {
    "duration": 7,
    "start_time": "2024-04-21T17:07:56.547Z"
   },
   {
    "duration": 12,
    "start_time": "2024-04-21T17:07:57.195Z"
   },
   {
    "duration": 9,
    "start_time": "2024-04-21T17:13:26.753Z"
   },
   {
    "duration": 17,
    "start_time": "2024-04-21T17:13:30.074Z"
   },
   {
    "duration": 6,
    "start_time": "2024-04-21T17:14:11.363Z"
   },
   {
    "duration": 12,
    "start_time": "2024-04-21T17:14:12.512Z"
   },
   {
    "duration": 8,
    "start_time": "2024-04-21T17:17:25.925Z"
   },
   {
    "duration": 260,
    "start_time": "2024-04-21T17:20:24.541Z"
   },
   {
    "duration": 163,
    "start_time": "2024-04-21T17:20:32.923Z"
   },
   {
    "duration": 9,
    "start_time": "2024-04-21T17:21:08.727Z"
   },
   {
    "duration": 8,
    "start_time": "2024-04-21T17:21:26.944Z"
   },
   {
    "duration": 259,
    "start_time": "2024-04-21T17:23:36.713Z"
   },
   {
    "duration": 6,
    "start_time": "2024-04-21T17:26:11.454Z"
   },
   {
    "duration": 9,
    "start_time": "2024-04-21T17:26:24.971Z"
   },
   {
    "duration": 186,
    "start_time": "2024-04-21T17:29:24.324Z"
   },
   {
    "duration": 210,
    "start_time": "2024-04-21T17:29:53.897Z"
   },
   {
    "duration": 206,
    "start_time": "2024-04-21T17:30:17.250Z"
   },
   {
    "duration": 6,
    "start_time": "2024-04-21T17:37:22.827Z"
   },
   {
    "duration": 199,
    "start_time": "2024-04-21T17:37:24.286Z"
   },
   {
    "duration": 205,
    "start_time": "2024-04-21T17:37:28.982Z"
   },
   {
    "duration": 192,
    "start_time": "2024-04-21T17:37:39.655Z"
   },
   {
    "duration": 204,
    "start_time": "2024-04-21T17:38:43.530Z"
   },
   {
    "duration": 219,
    "start_time": "2024-04-21T17:41:53.148Z"
   },
   {
    "duration": 204,
    "start_time": "2024-04-21T17:41:59.519Z"
   },
   {
    "duration": 199,
    "start_time": "2024-04-21T17:42:58.410Z"
   },
   {
    "duration": 216,
    "start_time": "2024-04-21T18:03:06.128Z"
   },
   {
    "duration": 160,
    "start_time": "2024-04-21T18:03:38.624Z"
   },
   {
    "duration": 168,
    "start_time": "2024-04-21T18:05:03.185Z"
   },
   {
    "duration": 351,
    "start_time": "2024-04-21T18:05:51.670Z"
   },
   {
    "duration": 270,
    "start_time": "2024-04-21T18:06:29.377Z"
   },
   {
    "duration": 262,
    "start_time": "2024-04-21T18:06:34.653Z"
   },
   {
    "duration": 264,
    "start_time": "2024-04-21T18:06:42.372Z"
   },
   {
    "duration": 280,
    "start_time": "2024-04-21T18:07:15.558Z"
   },
   {
    "duration": 1704,
    "start_time": "2024-04-21T18:13:30.199Z"
   },
   {
    "duration": 319,
    "start_time": "2024-04-21T18:20:57.977Z"
   },
   {
    "duration": 186,
    "start_time": "2024-04-21T18:21:07.128Z"
   },
   {
    "duration": 257,
    "start_time": "2024-04-21T18:21:33.164Z"
   },
   {
    "duration": 215,
    "start_time": "2024-04-21T18:21:52.584Z"
   },
   {
    "duration": 215,
    "start_time": "2024-04-21T18:22:21.038Z"
   },
   {
    "duration": 10,
    "start_time": "2024-04-21T18:23:08.435Z"
   },
   {
    "duration": 9,
    "start_time": "2024-04-21T18:23:09.485Z"
   },
   {
    "duration": 6,
    "start_time": "2024-04-21T18:23:10.288Z"
   },
   {
    "duration": 206,
    "start_time": "2024-04-21T18:23:18.211Z"
   },
   {
    "duration": 297,
    "start_time": "2024-04-21T18:23:25.968Z"
   },
   {
    "duration": 220,
    "start_time": "2024-04-21T18:23:39.393Z"
   },
   {
    "duration": 606,
    "start_time": "2024-04-21T18:30:08.354Z"
   },
   {
    "duration": 37,
    "start_time": "2024-04-21T18:30:08.961Z"
   },
   {
    "duration": 12,
    "start_time": "2024-04-21T18:30:08.999Z"
   },
   {
    "duration": 4,
    "start_time": "2024-04-21T18:30:09.013Z"
   },
   {
    "duration": 12,
    "start_time": "2024-04-21T18:30:09.019Z"
   },
   {
    "duration": 65,
    "start_time": "2024-04-21T18:30:09.032Z"
   },
   {
    "duration": 19,
    "start_time": "2024-04-21T18:30:09.098Z"
   },
   {
    "duration": 4,
    "start_time": "2024-04-21T18:30:09.119Z"
   },
   {
    "duration": 6,
    "start_time": "2024-04-21T18:30:09.125Z"
   },
   {
    "duration": 189,
    "start_time": "2024-04-21T18:30:09.133Z"
   },
   {
    "duration": 129,
    "start_time": "2024-04-21T18:30:09.324Z"
   },
   {
    "duration": 6,
    "start_time": "2024-04-21T18:30:09.455Z"
   },
   {
    "duration": 13,
    "start_time": "2024-04-21T18:30:09.462Z"
   },
   {
    "duration": 11,
    "start_time": "2024-04-21T18:30:09.477Z"
   },
   {
    "duration": 35,
    "start_time": "2024-04-21T18:30:09.490Z"
   },
   {
    "duration": 287,
    "start_time": "2024-04-21T18:30:09.526Z"
   },
   {
    "duration": 203,
    "start_time": "2024-04-21T18:30:09.815Z"
   },
   {
    "duration": 307,
    "start_time": "2024-04-21T18:30:10.020Z"
   },
   {
    "duration": 277,
    "start_time": "2024-04-21T18:30:10.328Z"
   },
   {
    "duration": 1218,
    "start_time": "2024-04-21T18:34:02.915Z"
   },
   {
    "duration": 198,
    "start_time": "2024-04-21T18:35:22.422Z"
   },
   {
    "duration": 188,
    "start_time": "2024-04-21T18:36:32.090Z"
   },
   {
    "duration": 290,
    "start_time": "2024-04-21T18:37:19.776Z"
   },
   {
    "duration": 290,
    "start_time": "2024-04-21T18:37:28.747Z"
   },
   {
    "duration": 49,
    "start_time": "2024-04-22T12:56:05.422Z"
   },
   {
    "duration": 813,
    "start_time": "2024-04-22T12:56:15.841Z"
   },
   {
    "duration": 88,
    "start_time": "2024-04-22T12:56:16.656Z"
   },
   {
    "duration": 13,
    "start_time": "2024-04-22T12:56:16.746Z"
   },
   {
    "duration": 5,
    "start_time": "2024-04-22T12:56:16.761Z"
   },
   {
    "duration": 16,
    "start_time": "2024-04-22T12:56:16.768Z"
   },
   {
    "duration": 102,
    "start_time": "2024-04-22T12:56:16.785Z"
   },
   {
    "duration": 63,
    "start_time": "2024-04-22T12:56:16.888Z"
   },
   {
    "duration": 4,
    "start_time": "2024-04-22T12:56:16.953Z"
   },
   {
    "duration": 9,
    "start_time": "2024-04-22T12:56:16.959Z"
   },
   {
    "duration": 172,
    "start_time": "2024-04-22T12:56:16.970Z"
   },
   {
    "duration": 129,
    "start_time": "2024-04-22T12:56:17.143Z"
   },
   {
    "duration": 21,
    "start_time": "2024-04-22T12:56:17.274Z"
   },
   {
    "duration": 22,
    "start_time": "2024-04-22T12:56:17.297Z"
   },
   {
    "duration": 11,
    "start_time": "2024-04-22T12:56:17.321Z"
   },
   {
    "duration": 8,
    "start_time": "2024-04-22T12:56:17.334Z"
   },
   {
    "duration": 297,
    "start_time": "2024-04-22T12:56:17.343Z"
   },
   {
    "duration": 222,
    "start_time": "2024-04-22T12:56:17.642Z"
   },
   {
    "duration": 404,
    "start_time": "2024-04-22T12:56:17.865Z"
   },
   {
    "duration": 298,
    "start_time": "2024-04-22T12:56:18.271Z"
   },
   {
    "duration": 332,
    "start_time": "2024-04-22T12:56:18.571Z"
   },
   {
    "duration": 145,
    "start_time": "2024-04-22T12:56:18.904Z"
   },
   {
    "duration": 2,
    "start_time": "2024-04-22T12:56:19.051Z"
   },
   {
    "duration": 131,
    "start_time": "2024-04-22T13:07:23.528Z"
   },
   {
    "duration": 123,
    "start_time": "2024-04-22T13:07:31.399Z"
   },
   {
    "duration": 205,
    "start_time": "2024-04-22T13:10:17.761Z"
   },
   {
    "duration": 5,
    "start_time": "2024-04-22T13:11:12.317Z"
   },
   {
    "duration": 6,
    "start_time": "2024-04-22T13:11:40.010Z"
   },
   {
    "duration": 5,
    "start_time": "2024-04-22T13:11:48.900Z"
   },
   {
    "duration": 5,
    "start_time": "2024-04-22T13:12:22.588Z"
   },
   {
    "duration": 15,
    "start_time": "2024-04-22T13:15:56.102Z"
   },
   {
    "duration": 8,
    "start_time": "2024-04-22T13:16:31.040Z"
   },
   {
    "duration": 6,
    "start_time": "2024-04-22T13:16:38.974Z"
   },
   {
    "duration": 9,
    "start_time": "2024-04-22T13:20:34.879Z"
   },
   {
    "duration": 6,
    "start_time": "2024-04-22T13:21:12.854Z"
   },
   {
    "duration": 398,
    "start_time": "2024-04-22T13:22:07.583Z"
   },
   {
    "duration": 7,
    "start_time": "2024-04-22T13:28:49.258Z"
   },
   {
    "duration": 115,
    "start_time": "2024-04-22T13:29:22.663Z"
   },
   {
    "duration": 11,
    "start_time": "2024-04-22T13:31:30.655Z"
   },
   {
    "duration": 158,
    "start_time": "2024-04-22T13:31:38.326Z"
   },
   {
    "duration": 136,
    "start_time": "2024-04-22T13:31:49.428Z"
   },
   {
    "duration": 147,
    "start_time": "2024-04-22T13:32:01.284Z"
   },
   {
    "duration": 119,
    "start_time": "2024-04-22T13:35:05.646Z"
   },
   {
    "duration": 123,
    "start_time": "2024-04-22T13:35:26.007Z"
   },
   {
    "duration": 306,
    "start_time": "2024-04-22T13:35:52.015Z"
   },
   {
    "duration": 261,
    "start_time": "2024-04-22T13:36:06.071Z"
   },
   {
    "duration": 132,
    "start_time": "2024-04-22T13:36:42.242Z"
   },
   {
    "duration": 143,
    "start_time": "2024-04-22T13:36:50.182Z"
   },
   {
    "duration": 130,
    "start_time": "2024-04-22T13:37:12.295Z"
   },
   {
    "duration": 113,
    "start_time": "2024-04-22T13:37:25.788Z"
   },
   {
    "duration": 5,
    "start_time": "2024-04-22T13:39:43.841Z"
   },
   {
    "duration": 5,
    "start_time": "2024-04-22T13:40:01.373Z"
   },
   {
    "duration": 4,
    "start_time": "2024-04-22T13:40:07.329Z"
   },
   {
    "duration": 5,
    "start_time": "2024-04-22T13:40:18.624Z"
   },
   {
    "duration": 48,
    "start_time": "2024-04-23T18:02:28.151Z"
   },
   {
    "duration": 784,
    "start_time": "2024-04-23T18:02:34.816Z"
   },
   {
    "duration": 85,
    "start_time": "2024-04-23T18:02:35.603Z"
   },
   {
    "duration": 13,
    "start_time": "2024-04-23T18:02:35.690Z"
   },
   {
    "duration": 25,
    "start_time": "2024-04-23T18:02:35.706Z"
   },
   {
    "duration": 25,
    "start_time": "2024-04-23T18:02:35.732Z"
   },
   {
    "duration": 140,
    "start_time": "2024-04-23T18:02:35.759Z"
   },
   {
    "duration": 76,
    "start_time": "2024-04-23T18:02:35.901Z"
   },
   {
    "duration": 4,
    "start_time": "2024-04-23T18:02:35.979Z"
   },
   {
    "duration": 34,
    "start_time": "2024-04-23T18:02:35.985Z"
   },
   {
    "duration": 196,
    "start_time": "2024-04-23T18:02:36.021Z"
   },
   {
    "duration": 127,
    "start_time": "2024-04-23T18:02:36.219Z"
   },
   {
    "duration": 18,
    "start_time": "2024-04-23T18:02:36.347Z"
   },
   {
    "duration": 24,
    "start_time": "2024-04-23T18:02:36.367Z"
   },
   {
    "duration": 11,
    "start_time": "2024-04-23T18:02:36.393Z"
   },
   {
    "duration": 13,
    "start_time": "2024-04-23T18:02:36.406Z"
   },
   {
    "duration": 321,
    "start_time": "2024-04-23T18:02:36.420Z"
   },
   {
    "duration": 225,
    "start_time": "2024-04-23T18:02:36.742Z"
   },
   {
    "duration": 362,
    "start_time": "2024-04-23T18:02:36.968Z"
   },
   {
    "duration": 314,
    "start_time": "2024-04-23T18:02:37.331Z"
   },
   {
    "duration": 331,
    "start_time": "2024-04-23T18:02:37.647Z"
   },
   {
    "duration": 7,
    "start_time": "2024-04-23T18:02:37.979Z"
   },
   {
    "duration": 125,
    "start_time": "2024-04-23T18:02:37.988Z"
   },
   {
    "duration": 5,
    "start_time": "2024-04-23T18:02:38.115Z"
   },
   {
    "duration": 130,
    "start_time": "2024-04-23T18:02:38.122Z"
   },
   {
    "duration": 5,
    "start_time": "2024-04-23T18:02:38.260Z"
   },
   {
    "duration": 5,
    "start_time": "2024-04-23T18:02:50.765Z"
   },
   {
    "duration": 218,
    "start_time": "2024-04-23T18:11:32.606Z"
   },
   {
    "duration": 959,
    "start_time": "2024-04-24T09:04:00.210Z"
   },
   {
    "duration": 80,
    "start_time": "2024-04-24T09:04:01.171Z"
   },
   {
    "duration": 141,
    "start_time": "2024-04-24T09:04:01.253Z"
   },
   {
    "duration": 48,
    "start_time": "2024-04-24T09:04:01.396Z"
   },
   {
    "duration": 59,
    "start_time": "2024-04-24T09:04:01.446Z"
   },
   {
    "duration": 128,
    "start_time": "2024-04-24T09:04:01.507Z"
   },
   {
    "duration": 75,
    "start_time": "2024-04-24T09:04:01.637Z"
   },
   {
    "duration": 74,
    "start_time": "2024-04-24T09:04:01.714Z"
   },
   {
    "duration": 85,
    "start_time": "2024-04-24T09:04:01.790Z"
   },
   {
    "duration": 375,
    "start_time": "2024-04-24T09:04:01.877Z"
   },
   {
    "duration": 145,
    "start_time": "2024-04-24T09:04:02.254Z"
   },
   {
    "duration": 35,
    "start_time": "2024-04-24T09:04:02.401Z"
   },
   {
    "duration": 139,
    "start_time": "2024-04-24T09:04:02.437Z"
   },
   {
    "duration": 139,
    "start_time": "2024-04-24T09:04:02.578Z"
   },
   {
    "duration": 322,
    "start_time": "2024-04-24T09:04:02.718Z"
   },
   {
    "duration": 440,
    "start_time": "2024-04-24T09:04:03.042Z"
   },
   {
    "duration": 240,
    "start_time": "2024-04-24T09:04:03.484Z"
   },
   {
    "duration": 364,
    "start_time": "2024-04-24T09:04:03.726Z"
   },
   {
    "duration": 307,
    "start_time": "2024-04-24T09:04:04.093Z"
   },
   {
    "duration": 341,
    "start_time": "2024-04-24T09:04:04.402Z"
   },
   {
    "duration": 8,
    "start_time": "2024-04-24T09:04:04.745Z"
   },
   {
    "duration": 140,
    "start_time": "2024-04-24T09:04:04.755Z"
   },
   {
    "duration": 8,
    "start_time": "2024-04-24T09:04:04.897Z"
   },
   {
    "duration": 297,
    "start_time": "2024-04-24T09:04:04.908Z"
   },
   {
    "duration": 5,
    "start_time": "2024-04-24T09:04:05.207Z"
   },
   {
    "duration": 645,
    "start_time": "2024-04-24T09:48:17.480Z"
   },
   {
    "duration": 36,
    "start_time": "2024-04-24T09:48:18.127Z"
   },
   {
    "duration": 13,
    "start_time": "2024-04-24T09:48:18.164Z"
   },
   {
    "duration": 5,
    "start_time": "2024-04-24T09:48:18.179Z"
   },
   {
    "duration": 16,
    "start_time": "2024-04-24T09:48:18.185Z"
   },
   {
    "duration": 61,
    "start_time": "2024-04-24T09:48:18.203Z"
   },
   {
    "duration": 21,
    "start_time": "2024-04-24T09:48:18.266Z"
   },
   {
    "duration": 3,
    "start_time": "2024-04-24T09:48:18.288Z"
   },
   {
    "duration": 8,
    "start_time": "2024-04-24T09:48:18.293Z"
   },
   {
    "duration": 173,
    "start_time": "2024-04-24T09:48:18.304Z"
   },
   {
    "duration": 125,
    "start_time": "2024-04-24T09:48:18.479Z"
   },
   {
    "duration": 6,
    "start_time": "2024-04-24T09:48:18.605Z"
   },
   {
    "duration": 18,
    "start_time": "2024-04-24T09:48:18.612Z"
   },
   {
    "duration": 9,
    "start_time": "2024-04-24T09:48:18.632Z"
   },
   {
    "duration": 19,
    "start_time": "2024-04-24T09:48:18.642Z"
   },
   {
    "duration": 300,
    "start_time": "2024-04-24T09:48:18.663Z"
   },
   {
    "duration": 240,
    "start_time": "2024-04-24T09:48:18.965Z"
   },
   {
    "duration": 366,
    "start_time": "2024-04-24T09:48:19.207Z"
   },
   {
    "duration": 312,
    "start_time": "2024-04-24T09:48:19.575Z"
   },
   {
    "duration": 318,
    "start_time": "2024-04-24T09:48:19.888Z"
   },
   {
    "duration": 8,
    "start_time": "2024-04-24T09:48:20.208Z"
   },
   {
    "duration": 133,
    "start_time": "2024-04-24T09:48:20.217Z"
   },
   {
    "duration": 6,
    "start_time": "2024-04-24T09:48:20.352Z"
   },
   {
    "duration": 251,
    "start_time": "2024-04-24T09:48:20.360Z"
   },
   {
    "duration": 16,
    "start_time": "2024-04-24T09:48:20.613Z"
   },
   {
    "duration": 76,
    "start_time": "2024-04-24T10:02:08.096Z"
   },
   {
    "duration": 7,
    "start_time": "2024-04-24T10:02:32.591Z"
   },
   {
    "duration": 36,
    "start_time": "2024-04-24T10:03:48.447Z"
   },
   {
    "duration": 103,
    "start_time": "2024-04-24T10:04:11.932Z"
   },
   {
    "duration": 6,
    "start_time": "2024-04-24T10:04:27.427Z"
   },
   {
    "duration": 15,
    "start_time": "2024-04-24T10:04:33.604Z"
   },
   {
    "duration": 15,
    "start_time": "2024-04-24T10:08:54.447Z"
   },
   {
    "duration": 15,
    "start_time": "2024-04-24T10:09:53.429Z"
   },
   {
    "duration": 20,
    "start_time": "2024-04-24T10:09:58.805Z"
   },
   {
    "duration": 10,
    "start_time": "2024-04-24T10:10:03.751Z"
   },
   {
    "duration": 9,
    "start_time": "2024-04-24T10:10:38.896Z"
   },
   {
    "duration": 8,
    "start_time": "2024-04-24T10:10:45.909Z"
   },
   {
    "duration": 9,
    "start_time": "2024-04-24T10:11:17.160Z"
   },
   {
    "duration": 10,
    "start_time": "2024-04-24T10:11:34.448Z"
   },
   {
    "duration": 7,
    "start_time": "2024-04-24T10:15:44.099Z"
   },
   {
    "duration": 7,
    "start_time": "2024-04-24T10:15:51.140Z"
   },
   {
    "duration": 10,
    "start_time": "2024-04-24T10:15:52.547Z"
   },
   {
    "duration": 372,
    "start_time": "2024-04-24T10:16:33.166Z"
   },
   {
    "duration": 336,
    "start_time": "2024-04-24T10:16:33.773Z"
   },
   {
    "duration": 11,
    "start_time": "2024-04-24T10:17:10.725Z"
   },
   {
    "duration": 10,
    "start_time": "2024-04-24T10:17:30.631Z"
   },
   {
    "duration": 10,
    "start_time": "2024-04-24T10:17:31.512Z"
   },
   {
    "duration": 6,
    "start_time": "2024-04-24T10:17:32.302Z"
   },
   {
    "duration": 11,
    "start_time": "2024-04-24T10:17:36.123Z"
   },
   {
    "duration": 14,
    "start_time": "2024-04-24T10:20:03.140Z"
   },
   {
    "duration": 11,
    "start_time": "2024-04-24T10:22:27.571Z"
   },
   {
    "duration": 13,
    "start_time": "2024-04-24T10:22:30.098Z"
   },
   {
    "duration": 9,
    "start_time": "2024-04-24T10:23:52.225Z"
   },
   {
    "duration": 14,
    "start_time": "2024-04-24T10:24:29.045Z"
   },
   {
    "duration": 47,
    "start_time": "2024-04-24T13:16:13.484Z"
   },
   {
    "duration": 8,
    "start_time": "2024-04-24T13:16:28.854Z"
   },
   {
    "duration": 908,
    "start_time": "2024-04-24T13:16:48.334Z"
   },
   {
    "duration": 84,
    "start_time": "2024-04-24T13:16:49.244Z"
   },
   {
    "duration": 13,
    "start_time": "2024-04-24T13:16:49.330Z"
   },
   {
    "duration": 14,
    "start_time": "2024-04-24T13:16:49.345Z"
   },
   {
    "duration": 27,
    "start_time": "2024-04-24T13:16:49.369Z"
   },
   {
    "duration": 114,
    "start_time": "2024-04-24T13:16:49.397Z"
   },
   {
    "duration": 75,
    "start_time": "2024-04-24T13:16:49.513Z"
   },
   {
    "duration": 4,
    "start_time": "2024-04-24T13:16:49.590Z"
   },
   {
    "duration": 29,
    "start_time": "2024-04-24T13:16:49.595Z"
   },
   {
    "duration": 178,
    "start_time": "2024-04-24T13:16:49.627Z"
   },
   {
    "duration": 143,
    "start_time": "2024-04-24T13:16:49.807Z"
   },
   {
    "duration": 19,
    "start_time": "2024-04-24T13:16:49.952Z"
   },
   {
    "duration": 16,
    "start_time": "2024-04-24T13:16:49.977Z"
   },
   {
    "duration": 39,
    "start_time": "2024-04-24T13:16:49.994Z"
   },
   {
    "duration": 50,
    "start_time": "2024-04-24T13:16:50.036Z"
   },
   {
    "duration": 338,
    "start_time": "2024-04-24T13:16:50.087Z"
   },
   {
    "duration": 230,
    "start_time": "2024-04-24T13:16:50.427Z"
   },
   {
    "duration": 371,
    "start_time": "2024-04-24T13:16:50.658Z"
   },
   {
    "duration": 302,
    "start_time": "2024-04-24T13:16:51.032Z"
   },
   {
    "duration": 364,
    "start_time": "2024-04-24T13:16:51.336Z"
   },
   {
    "duration": 7,
    "start_time": "2024-04-24T13:16:51.702Z"
   },
   {
    "duration": 191,
    "start_time": "2024-04-24T13:16:51.710Z"
   },
   {
    "duration": 5,
    "start_time": "2024-04-24T13:16:51.903Z"
   },
   {
    "duration": 270,
    "start_time": "2024-04-24T13:16:51.910Z"
   },
   {
    "duration": 5,
    "start_time": "2024-04-24T13:16:52.182Z"
   },
   {
    "duration": 29,
    "start_time": "2024-04-24T13:16:52.188Z"
   },
   {
    "duration": 26,
    "start_time": "2024-04-24T13:16:52.219Z"
   },
   {
    "duration": 21,
    "start_time": "2024-04-24T13:16:52.248Z"
   },
   {
    "duration": 35,
    "start_time": "2024-04-24T13:16:52.272Z"
   },
   {
    "duration": 39,
    "start_time": "2024-04-24T13:16:52.309Z"
   },
   {
    "duration": 38,
    "start_time": "2024-04-24T13:16:52.350Z"
   },
   {
    "duration": 18,
    "start_time": "2024-04-24T13:19:07.560Z"
   },
   {
    "duration": 22,
    "start_time": "2024-04-24T13:19:13.707Z"
   },
   {
    "duration": 14,
    "start_time": "2024-04-24T13:19:39.078Z"
   },
   {
    "duration": 14,
    "start_time": "2024-04-24T13:19:50.185Z"
   },
   {
    "duration": 13,
    "start_time": "2024-04-24T13:20:15.360Z"
   },
   {
    "duration": 10,
    "start_time": "2024-04-24T13:26:16.111Z"
   },
   {
    "duration": 10,
    "start_time": "2024-04-24T13:26:22.871Z"
   },
   {
    "duration": 87,
    "start_time": "2024-04-24T13:27:35.743Z"
   },
   {
    "duration": 14,
    "start_time": "2024-04-24T13:27:40.213Z"
   },
   {
    "duration": 9,
    "start_time": "2024-04-24T13:27:41.193Z"
   },
   {
    "duration": 31,
    "start_time": "2024-04-24T13:29:21.420Z"
   },
   {
    "duration": 114,
    "start_time": "2024-04-24T13:29:28.336Z"
   },
   {
    "duration": 12,
    "start_time": "2024-04-24T13:30:06.474Z"
   },
   {
    "duration": 93,
    "start_time": "2024-04-24T13:30:52.196Z"
   },
   {
    "duration": 8,
    "start_time": "2024-04-24T13:30:59.071Z"
   },
   {
    "duration": 21,
    "start_time": "2024-04-24T13:31:12.157Z"
   },
   {
    "duration": 11,
    "start_time": "2024-04-24T13:31:13.926Z"
   },
   {
    "duration": 979,
    "start_time": "2024-04-24T13:36:26.770Z"
   },
   {
    "duration": 7,
    "start_time": "2024-04-24T13:37:35.556Z"
   },
   {
    "duration": 9,
    "start_time": "2024-04-24T13:38:16.378Z"
   },
   {
    "duration": 8,
    "start_time": "2024-04-24T13:39:39.618Z"
   },
   {
    "duration": 498,
    "start_time": "2024-04-24T13:40:58.699Z"
   },
   {
    "duration": 36,
    "start_time": "2024-04-24T13:41:07.039Z"
   },
   {
    "duration": 26,
    "start_time": "2024-04-24T13:41:53.544Z"
   },
   {
    "duration": 4,
    "start_time": "2024-04-24T13:45:35.796Z"
   },
   {
    "duration": 46,
    "start_time": "2024-04-24T14:48:38.481Z"
   },
   {
    "duration": 12,
    "start_time": "2024-04-24T14:49:14.496Z"
   },
   {
    "duration": 70,
    "start_time": "2024-04-24T14:52:35.394Z"
   },
   {
    "duration": 63,
    "start_time": "2024-04-24T14:52:57.902Z"
   },
   {
    "duration": 10,
    "start_time": "2024-04-24T14:53:37.510Z"
   },
   {
    "duration": 44,
    "start_time": "2024-04-24T19:16:32.579Z"
   },
   {
    "duration": 1189,
    "start_time": "2024-04-24T19:16:42.911Z"
   },
   {
    "duration": 144,
    "start_time": "2024-04-24T19:16:44.102Z"
   },
   {
    "duration": 14,
    "start_time": "2024-04-24T19:16:44.248Z"
   },
   {
    "duration": 16,
    "start_time": "2024-04-24T19:16:44.264Z"
   },
   {
    "duration": 24,
    "start_time": "2024-04-24T19:16:44.282Z"
   },
   {
    "duration": 124,
    "start_time": "2024-04-24T19:16:44.309Z"
   },
   {
    "duration": 77,
    "start_time": "2024-04-24T19:16:44.435Z"
   },
   {
    "duration": 5,
    "start_time": "2024-04-24T19:16:44.514Z"
   },
   {
    "duration": 40,
    "start_time": "2024-04-24T19:16:44.521Z"
   },
   {
    "duration": 199,
    "start_time": "2024-04-24T19:16:44.564Z"
   },
   {
    "duration": 135,
    "start_time": "2024-04-24T19:16:44.765Z"
   },
   {
    "duration": 7,
    "start_time": "2024-04-24T19:16:44.901Z"
   },
   {
    "duration": 23,
    "start_time": "2024-04-24T19:16:44.910Z"
   },
   {
    "duration": 37,
    "start_time": "2024-04-24T19:16:44.935Z"
   },
   {
    "duration": 49,
    "start_time": "2024-04-24T19:16:44.974Z"
   },
   {
    "duration": 359,
    "start_time": "2024-04-24T19:16:45.024Z"
   },
   {
    "duration": 210,
    "start_time": "2024-04-24T19:16:45.384Z"
   },
   {
    "duration": 363,
    "start_time": "2024-04-24T19:16:45.596Z"
   },
   {
    "duration": 255,
    "start_time": "2024-04-24T19:16:45.961Z"
   },
   {
    "duration": 292,
    "start_time": "2024-04-24T19:16:46.217Z"
   },
   {
    "duration": 7,
    "start_time": "2024-04-24T19:16:46.510Z"
   },
   {
    "duration": 127,
    "start_time": "2024-04-24T19:16:46.518Z"
   },
   {
    "duration": 13,
    "start_time": "2024-04-24T19:16:46.647Z"
   },
   {
    "duration": 256,
    "start_time": "2024-04-24T19:16:46.662Z"
   },
   {
    "duration": 5,
    "start_time": "2024-04-24T19:16:46.919Z"
   },
   {
    "duration": 50,
    "start_time": "2024-04-24T19:16:46.925Z"
   },
   {
    "duration": 42,
    "start_time": "2024-04-24T19:16:46.977Z"
   },
   {
    "duration": 54,
    "start_time": "2024-04-24T19:16:47.023Z"
   },
   {
    "duration": 46,
    "start_time": "2024-04-24T19:16:47.079Z"
   },
   {
    "duration": 40,
    "start_time": "2024-04-24T19:16:47.128Z"
   },
   {
    "duration": 31,
    "start_time": "2024-04-24T19:16:47.169Z"
   },
   {
    "duration": 31,
    "start_time": "2024-04-24T19:16:47.201Z"
   },
   {
    "duration": 43,
    "start_time": "2024-04-24T19:16:47.234Z"
   },
   {
    "duration": 5,
    "start_time": "2024-04-24T19:16:47.278Z"
   },
   {
    "duration": 47,
    "start_time": "2024-04-24T19:16:47.285Z"
   },
   {
    "duration": 36,
    "start_time": "2024-04-24T19:16:47.333Z"
   },
   {
    "duration": 148,
    "start_time": "2024-04-24T19:16:47.371Z"
   },
   {
    "duration": 43,
    "start_time": "2024-04-24T19:18:29.952Z"
   },
   {
    "duration": 7,
    "start_time": "2024-04-24T19:20:27.216Z"
   },
   {
    "duration": 975,
    "start_time": "2024-04-24T19:22:35.498Z"
   },
   {
    "duration": 1098,
    "start_time": "2024-04-24T19:22:40.195Z"
   },
   {
    "duration": 1073,
    "start_time": "2024-04-24T19:23:31.177Z"
   },
   {
    "duration": 92,
    "start_time": "2024-04-24T19:23:32.251Z"
   },
   {
    "duration": 16,
    "start_time": "2024-04-24T19:23:32.345Z"
   },
   {
    "duration": 8,
    "start_time": "2024-04-24T19:23:32.364Z"
   },
   {
    "duration": 18,
    "start_time": "2024-04-24T19:23:32.374Z"
   },
   {
    "duration": 69,
    "start_time": "2024-04-24T19:23:32.394Z"
   },
   {
    "duration": 21,
    "start_time": "2024-04-24T19:23:32.464Z"
   },
   {
    "duration": 8,
    "start_time": "2024-04-24T19:23:32.487Z"
   },
   {
    "duration": 30,
    "start_time": "2024-04-24T19:23:32.497Z"
   },
   {
    "duration": 177,
    "start_time": "2024-04-24T19:23:32.530Z"
   },
   {
    "duration": 134,
    "start_time": "2024-04-24T19:23:32.709Z"
   },
   {
    "duration": 6,
    "start_time": "2024-04-24T19:23:32.845Z"
   },
   {
    "duration": 4,
    "start_time": "2024-04-24T19:23:32.860Z"
   },
   {
    "duration": 13,
    "start_time": "2024-04-24T19:23:32.866Z"
   },
   {
    "duration": 12,
    "start_time": "2024-04-24T19:23:32.881Z"
   },
   {
    "duration": 314,
    "start_time": "2024-04-24T19:23:32.895Z"
   },
   {
    "duration": 204,
    "start_time": "2024-04-24T19:23:33.210Z"
   },
   {
    "duration": 315,
    "start_time": "2024-04-24T19:23:33.416Z"
   },
   {
    "duration": 251,
    "start_time": "2024-04-24T19:23:33.733Z"
   },
   {
    "duration": 302,
    "start_time": "2024-04-24T19:23:33.986Z"
   },
   {
    "duration": 7,
    "start_time": "2024-04-24T19:23:34.289Z"
   },
   {
    "duration": 121,
    "start_time": "2024-04-24T19:23:34.297Z"
   },
   {
    "duration": 5,
    "start_time": "2024-04-24T19:23:34.420Z"
   },
   {
    "duration": 274,
    "start_time": "2024-04-24T19:23:34.427Z"
   },
   {
    "duration": 5,
    "start_time": "2024-04-24T19:23:34.702Z"
   },
   {
    "duration": 28,
    "start_time": "2024-04-24T19:23:34.708Z"
   },
   {
    "duration": 41,
    "start_time": "2024-04-24T19:23:34.737Z"
   },
   {
    "duration": 20,
    "start_time": "2024-04-24T19:23:34.781Z"
   },
   {
    "duration": 29,
    "start_time": "2024-04-24T19:23:34.803Z"
   },
   {
    "duration": 21,
    "start_time": "2024-04-24T19:23:34.833Z"
   },
   {
    "duration": 25,
    "start_time": "2024-04-24T19:23:34.856Z"
   },
   {
    "duration": 8,
    "start_time": "2024-04-24T19:23:34.883Z"
   },
   {
    "duration": 47,
    "start_time": "2024-04-24T19:23:34.892Z"
   },
   {
    "duration": 4,
    "start_time": "2024-04-24T19:23:34.941Z"
   },
   {
    "duration": 23,
    "start_time": "2024-04-24T19:23:34.947Z"
   },
   {
    "duration": 23,
    "start_time": "2024-04-24T19:23:34.972Z"
   },
   {
    "duration": 21,
    "start_time": "2024-04-24T19:23:34.997Z"
   },
   {
    "duration": 5,
    "start_time": "2024-04-24T19:25:20.833Z"
   },
   {
    "duration": 7,
    "start_time": "2024-04-24T19:26:37.259Z"
   },
   {
    "duration": 8,
    "start_time": "2024-04-24T19:26:42.891Z"
   },
   {
    "duration": 6,
    "start_time": "2024-04-24T19:27:04.278Z"
   },
   {
    "duration": 5,
    "start_time": "2024-04-24T19:27:05.717Z"
   },
   {
    "duration": 8,
    "start_time": "2024-04-24T19:27:06.200Z"
   },
   {
    "duration": 6,
    "start_time": "2024-04-24T19:27:58.680Z"
   },
   {
    "duration": 4,
    "start_time": "2024-04-24T19:28:00.787Z"
   },
   {
    "duration": 7,
    "start_time": "2024-04-24T19:28:01.362Z"
   },
   {
    "duration": 103,
    "start_time": "2024-04-24T19:29:04.067Z"
   },
   {
    "duration": 19,
    "start_time": "2024-04-24T19:29:13.827Z"
   },
   {
    "duration": 18,
    "start_time": "2024-04-24T19:29:39.439Z"
   },
   {
    "duration": 8,
    "start_time": "2024-04-24T19:30:14.847Z"
   },
   {
    "duration": 4,
    "start_time": "2024-04-24T19:30:23.003Z"
   },
   {
    "duration": 1060,
    "start_time": "2024-04-24T19:57:43.302Z"
   },
   {
    "duration": 776,
    "start_time": "2024-04-24T19:59:04.889Z"
   },
   {
    "duration": 7,
    "start_time": "2024-04-24T20:00:03.005Z"
   },
   {
    "duration": 9,
    "start_time": "2024-04-24T20:00:08.650Z"
   },
   {
    "duration": 10,
    "start_time": "2024-04-24T20:04:06.738Z"
   },
   {
    "duration": 25,
    "start_time": "2024-04-24T20:04:26.439Z"
   },
   {
    "duration": 711,
    "start_time": "2024-04-24T20:12:02.565Z"
   },
   {
    "duration": 693,
    "start_time": "2024-04-24T20:12:26.599Z"
   },
   {
    "duration": 10,
    "start_time": "2024-04-24T20:12:51.582Z"
   },
   {
    "duration": 742,
    "start_time": "2024-04-24T20:21:28.690Z"
   },
   {
    "duration": 9,
    "start_time": "2024-04-24T20:21:45.520Z"
   },
   {
    "duration": 55,
    "start_time": "2024-04-25T17:36:54.792Z"
   },
   {
    "duration": 1245,
    "start_time": "2024-04-25T17:37:02.430Z"
   },
   {
    "duration": 145,
    "start_time": "2024-04-25T17:37:03.677Z"
   },
   {
    "duration": 16,
    "start_time": "2024-04-25T17:37:03.823Z"
   },
   {
    "duration": 6,
    "start_time": "2024-04-25T17:37:03.840Z"
   },
   {
    "duration": 15,
    "start_time": "2024-04-25T17:37:03.849Z"
   },
   {
    "duration": 119,
    "start_time": "2024-04-25T17:37:03.866Z"
   },
   {
    "duration": 4,
    "start_time": "2024-04-25T17:37:03.987Z"
   },
   {
    "duration": 78,
    "start_time": "2024-04-25T17:37:03.993Z"
   },
   {
    "duration": 5,
    "start_time": "2024-04-25T17:37:04.073Z"
   },
   {
    "duration": 8,
    "start_time": "2024-04-25T17:37:04.079Z"
   },
   {
    "duration": 181,
    "start_time": "2024-04-25T17:37:04.089Z"
   },
   {
    "duration": 151,
    "start_time": "2024-04-25T17:37:04.271Z"
   },
   {
    "duration": 6,
    "start_time": "2024-04-25T17:37:04.424Z"
   },
   {
    "duration": 12,
    "start_time": "2024-04-25T17:37:04.433Z"
   },
   {
    "duration": 23,
    "start_time": "2024-04-25T17:37:04.447Z"
   },
   {
    "duration": 11,
    "start_time": "2024-04-25T17:37:04.471Z"
   },
   {
    "duration": 300,
    "start_time": "2024-04-25T17:37:04.483Z"
   },
   {
    "duration": 211,
    "start_time": "2024-04-25T17:37:04.784Z"
   },
   {
    "duration": 352,
    "start_time": "2024-04-25T17:37:04.996Z"
   },
   {
    "duration": 240,
    "start_time": "2024-04-25T17:37:05.350Z"
   },
   {
    "duration": 348,
    "start_time": "2024-04-25T17:37:05.591Z"
   },
   {
    "duration": 8,
    "start_time": "2024-04-25T17:37:05.942Z"
   },
   {
    "duration": 150,
    "start_time": "2024-04-25T17:37:05.952Z"
   },
   {
    "duration": 5,
    "start_time": "2024-04-25T17:37:06.104Z"
   },
   {
    "duration": 235,
    "start_time": "2024-04-25T17:37:06.111Z"
   },
   {
    "duration": 4,
    "start_time": "2024-04-25T17:37:06.348Z"
   },
   {
    "duration": 31,
    "start_time": "2024-04-25T17:37:06.354Z"
   },
   {
    "duration": 20,
    "start_time": "2024-04-25T17:37:06.387Z"
   },
   {
    "duration": 10,
    "start_time": "2024-04-25T17:37:06.409Z"
   },
   {
    "duration": 25,
    "start_time": "2024-04-25T17:37:06.421Z"
   },
   {
    "duration": 10,
    "start_time": "2024-04-25T17:37:06.448Z"
   },
   {
    "duration": 28,
    "start_time": "2024-04-25T17:37:06.459Z"
   },
   {
    "duration": 5,
    "start_time": "2024-04-25T17:37:06.489Z"
   },
   {
    "duration": 26,
    "start_time": "2024-04-25T17:37:06.496Z"
   },
   {
    "duration": 3,
    "start_time": "2024-04-25T17:37:06.524Z"
   },
   {
    "duration": 12,
    "start_time": "2024-04-25T17:37:06.529Z"
   },
   {
    "duration": 43,
    "start_time": "2024-04-25T17:37:06.543Z"
   },
   {
    "duration": 9,
    "start_time": "2024-04-25T17:37:06.588Z"
   },
   {
    "duration": 6,
    "start_time": "2024-04-25T17:37:06.598Z"
   },
   {
    "duration": 9,
    "start_time": "2024-04-25T17:37:06.605Z"
   },
   {
    "duration": 25,
    "start_time": "2024-04-25T17:37:06.618Z"
   },
   {
    "duration": 42,
    "start_time": "2024-04-25T17:37:06.645Z"
   },
   {
    "duration": 8,
    "start_time": "2024-04-25T17:37:06.689Z"
   },
   {
    "duration": 33,
    "start_time": "2024-04-25T17:37:34.071Z"
   },
   {
    "duration": 1056,
    "start_time": "2024-04-25T17:37:41.085Z"
   },
   {
    "duration": 90,
    "start_time": "2024-04-25T17:37:42.143Z"
   },
   {
    "duration": 13,
    "start_time": "2024-04-25T17:37:42.235Z"
   },
   {
    "duration": 6,
    "start_time": "2024-04-25T17:37:42.251Z"
   },
   {
    "duration": 34,
    "start_time": "2024-04-25T17:37:42.258Z"
   },
   {
    "duration": 51,
    "start_time": "2024-04-25T17:37:42.294Z"
   },
   {
    "duration": 5,
    "start_time": "2024-04-25T17:37:42.347Z"
   },
   {
    "duration": 21,
    "start_time": "2024-04-25T17:37:42.353Z"
   },
   {
    "duration": 4,
    "start_time": "2024-04-25T17:37:42.377Z"
   },
   {
    "duration": 12,
    "start_time": "2024-04-25T17:37:42.383Z"
   },
   {
    "duration": 220,
    "start_time": "2024-04-25T17:37:42.396Z"
   },
   {
    "duration": 137,
    "start_time": "2024-04-25T17:37:42.618Z"
   },
   {
    "duration": 5,
    "start_time": "2024-04-25T17:37:42.757Z"
   },
   {
    "duration": 15,
    "start_time": "2024-04-25T17:37:42.764Z"
   },
   {
    "duration": 10,
    "start_time": "2024-04-25T17:37:42.782Z"
   },
   {
    "duration": 7,
    "start_time": "2024-04-25T17:37:42.794Z"
   },
   {
    "duration": 322,
    "start_time": "2024-04-25T17:37:42.802Z"
   },
   {
    "duration": 228,
    "start_time": "2024-04-25T17:37:43.126Z"
   },
   {
    "duration": 356,
    "start_time": "2024-04-25T17:37:43.356Z"
   },
   {
    "duration": 261,
    "start_time": "2024-04-25T17:37:43.713Z"
   },
   {
    "duration": 338,
    "start_time": "2024-04-25T17:37:43.982Z"
   },
   {
    "duration": 7,
    "start_time": "2024-04-25T17:37:44.321Z"
   },
   {
    "duration": 132,
    "start_time": "2024-04-25T17:37:44.329Z"
   },
   {
    "duration": 6,
    "start_time": "2024-04-25T17:37:44.462Z"
   },
   {
    "duration": 265,
    "start_time": "2024-04-25T17:37:44.469Z"
   },
   {
    "duration": 4,
    "start_time": "2024-04-25T17:37:44.736Z"
   },
   {
    "duration": 10,
    "start_time": "2024-04-25T17:37:44.742Z"
   },
   {
    "duration": 11,
    "start_time": "2024-04-25T17:37:44.782Z"
   },
   {
    "duration": 9,
    "start_time": "2024-04-25T17:37:44.794Z"
   },
   {
    "duration": 20,
    "start_time": "2024-04-25T17:37:44.804Z"
   },
   {
    "duration": 63,
    "start_time": "2024-04-25T17:37:44.826Z"
   },
   {
    "duration": 13,
    "start_time": "2024-04-25T17:37:44.891Z"
   },
   {
    "duration": 6,
    "start_time": "2024-04-25T17:37:44.906Z"
   },
   {
    "duration": 79,
    "start_time": "2024-04-25T17:37:44.914Z"
   },
   {
    "duration": 4,
    "start_time": "2024-04-25T17:37:44.995Z"
   },
   {
    "duration": 86,
    "start_time": "2024-04-25T17:37:45.000Z"
   },
   {
    "duration": 8,
    "start_time": "2024-04-25T17:37:45.088Z"
   },
   {
    "duration": 24,
    "start_time": "2024-04-25T17:37:45.098Z"
   },
   {
    "duration": 60,
    "start_time": "2024-04-25T17:37:45.123Z"
   },
   {
    "duration": 20,
    "start_time": "2024-04-25T17:37:45.185Z"
   },
   {
    "duration": 75,
    "start_time": "2024-04-25T17:37:45.207Z"
   },
   {
    "duration": 9,
    "start_time": "2024-04-25T17:37:45.284Z"
   },
   {
    "duration": 7,
    "start_time": "2024-04-25T17:37:45.295Z"
   },
   {
    "duration": 843,
    "start_time": "2024-04-25T17:41:17.385Z"
   },
   {
    "duration": 11,
    "start_time": "2024-04-25T17:56:55.291Z"
   },
   {
    "duration": 18,
    "start_time": "2024-04-25T17:57:16.083Z"
   },
   {
    "duration": 6,
    "start_time": "2024-04-25T17:58:50.065Z"
   },
   {
    "duration": 3,
    "start_time": "2024-04-25T18:00:53.587Z"
   },
   {
    "duration": 12,
    "start_time": "2024-04-25T18:01:58.049Z"
   },
   {
    "duration": 21,
    "start_time": "2024-04-25T18:05:09.513Z"
   },
   {
    "duration": 3,
    "start_time": "2024-04-25T18:05:22.132Z"
   },
   {
    "duration": 8,
    "start_time": "2024-04-25T18:05:40.584Z"
   },
   {
    "duration": 2,
    "start_time": "2024-04-25T18:06:54.688Z"
   },
   {
    "duration": 3,
    "start_time": "2024-04-25T18:06:59.565Z"
   },
   {
    "duration": 2,
    "start_time": "2024-04-25T18:07:06.805Z"
   },
   {
    "duration": 3,
    "start_time": "2024-04-25T18:10:38.898Z"
   },
   {
    "duration": 4,
    "start_time": "2024-04-25T18:11:19.315Z"
   },
   {
    "duration": 3,
    "start_time": "2024-04-25T18:11:30.480Z"
   },
   {
    "duration": 3,
    "start_time": "2024-04-25T18:11:33.627Z"
   },
   {
    "duration": 3,
    "start_time": "2024-04-25T18:16:04.330Z"
   },
   {
    "duration": 4,
    "start_time": "2024-04-25T18:16:06.514Z"
   },
   {
    "duration": 3,
    "start_time": "2024-04-25T18:16:24.439Z"
   },
   {
    "duration": 57,
    "start_time": "2024-04-25T18:16:25.322Z"
   },
   {
    "duration": 2,
    "start_time": "2024-04-25T18:16:27.776Z"
   },
   {
    "duration": 3,
    "start_time": "2024-04-25T18:16:46.317Z"
   },
   {
    "duration": 3,
    "start_time": "2024-04-25T18:16:48.027Z"
   },
   {
    "duration": 7,
    "start_time": "2024-04-25T18:17:12.541Z"
   },
   {
    "duration": 3,
    "start_time": "2024-04-25T18:17:42.956Z"
   },
   {
    "duration": 3,
    "start_time": "2024-04-25T18:17:49.285Z"
   },
   {
    "duration": 5,
    "start_time": "2024-04-25T18:17:51.754Z"
   },
   {
    "duration": 3,
    "start_time": "2024-04-25T18:18:06.774Z"
   },
   {
    "duration": 5,
    "start_time": "2024-04-25T18:18:09.160Z"
   },
   {
    "duration": 10,
    "start_time": "2024-04-25T18:18:51.446Z"
   },
   {
    "duration": 12,
    "start_time": "2024-04-25T18:19:28.568Z"
   },
   {
    "duration": 306,
    "start_time": "2024-04-25T19:18:06.439Z"
   },
   {
    "duration": 277,
    "start_time": "2024-04-25T19:18:16.334Z"
   },
   {
    "duration": 393,
    "start_time": "2024-04-25T19:18:24.520Z"
   },
   {
    "duration": 5,
    "start_time": "2024-04-25T19:20:28.299Z"
   },
   {
    "duration": 5,
    "start_time": "2024-04-25T19:20:36.845Z"
   },
   {
    "duration": 5,
    "start_time": "2024-04-25T19:21:35.310Z"
   },
   {
    "duration": 6,
    "start_time": "2024-04-25T19:21:54.043Z"
   },
   {
    "duration": 325,
    "start_time": "2024-04-25T19:22:01.880Z"
   },
   {
    "duration": 299,
    "start_time": "2024-04-25T19:22:22.098Z"
   },
   {
    "duration": 243,
    "start_time": "2024-04-25T19:44:35.563Z"
   },
   {
    "duration": 322,
    "start_time": "2024-04-25T19:44:55.616Z"
   },
   {
    "duration": 239,
    "start_time": "2024-04-25T19:47:07.533Z"
   },
   {
    "duration": 115,
    "start_time": "2024-04-25T19:47:31.923Z"
   },
   {
    "duration": 9,
    "start_time": "2024-04-25T19:50:27.876Z"
   },
   {
    "duration": 6,
    "start_time": "2024-04-25T19:50:30.209Z"
   },
   {
    "duration": 8,
    "start_time": "2024-04-25T19:50:38.969Z"
   },
   {
    "duration": 26,
    "start_time": "2024-04-25T19:50:39.805Z"
   },
   {
    "duration": 10,
    "start_time": "2024-04-25T19:50:52.179Z"
   },
   {
    "duration": 8,
    "start_time": "2024-04-25T19:50:53.324Z"
   },
   {
    "duration": 5,
    "start_time": "2024-04-25T19:55:46.854Z"
   },
   {
    "duration": 4,
    "start_time": "2024-04-25T19:57:37.483Z"
   },
   {
    "duration": 6,
    "start_time": "2024-04-25T19:58:03.266Z"
   },
   {
    "duration": 6,
    "start_time": "2024-04-25T20:02:08.951Z"
   },
   {
    "duration": 6,
    "start_time": "2024-04-25T20:02:20.395Z"
   },
   {
    "duration": 265,
    "start_time": "2024-04-25T20:15:04.547Z"
   },
   {
    "duration": 257,
    "start_time": "2024-04-25T20:15:29.452Z"
   },
   {
    "duration": 238,
    "start_time": "2024-04-25T20:16:32.189Z"
   },
   {
    "duration": 12,
    "start_time": "2024-04-25T20:16:36.967Z"
   },
   {
    "duration": 304,
    "start_time": "2024-04-25T20:16:50.430Z"
   },
   {
    "duration": 125,
    "start_time": "2024-04-25T20:17:36.151Z"
   },
   {
    "duration": 257,
    "start_time": "2024-04-25T20:17:39.984Z"
   },
   {
    "duration": 133,
    "start_time": "2024-04-25T20:18:47.116Z"
   },
   {
    "duration": 14,
    "start_time": "2024-04-25T20:19:41.476Z"
   },
   {
    "duration": 47,
    "start_time": "2024-04-25T20:19:46.934Z"
   },
   {
    "duration": 14,
    "start_time": "2024-04-25T20:20:05.921Z"
   },
   {
    "duration": 47,
    "start_time": "2024-04-25T20:20:15.765Z"
   },
   {
    "duration": 138,
    "start_time": "2024-04-25T20:20:19.810Z"
   },
   {
    "duration": 139,
    "start_time": "2024-04-25T20:20:43.114Z"
   },
   {
    "duration": 5,
    "start_time": "2024-04-25T20:22:12.714Z"
   },
   {
    "duration": 6,
    "start_time": "2024-04-25T20:22:26.765Z"
   },
   {
    "duration": 2,
    "start_time": "2024-04-25T20:25:53.834Z"
   },
   {
    "duration": 2,
    "start_time": "2024-04-25T20:25:56.435Z"
   },
   {
    "duration": 9,
    "start_time": "2024-04-25T20:27:10.291Z"
   },
   {
    "duration": 4,
    "start_time": "2024-04-25T20:27:11.187Z"
   },
   {
    "duration": 7,
    "start_time": "2024-04-25T20:27:13.217Z"
   },
   {
    "duration": 27,
    "start_time": "2024-04-25T20:27:14.508Z"
   },
   {
    "duration": 11,
    "start_time": "2024-04-25T20:28:24.760Z"
   },
   {
    "duration": 8,
    "start_time": "2024-04-25T20:28:25.406Z"
   },
   {
    "duration": 7,
    "start_time": "2024-04-25T20:28:49.098Z"
   },
   {
    "duration": 6,
    "start_time": "2024-04-25T20:28:50.631Z"
   },
   {
    "duration": 10,
    "start_time": "2024-04-25T20:28:51.925Z"
   },
   {
    "duration": 27,
    "start_time": "2024-04-25T20:28:53.140Z"
   },
   {
    "duration": 11,
    "start_time": "2024-04-25T20:28:58.414Z"
   },
   {
    "duration": 8,
    "start_time": "2024-04-25T20:29:01.833Z"
   },
   {
    "duration": 9,
    "start_time": "2024-04-25T20:29:29.411Z"
   },
   {
    "duration": 4,
    "start_time": "2024-04-25T20:29:31.437Z"
   },
   {
    "duration": 10,
    "start_time": "2024-04-25T20:29:32.027Z"
   },
   {
    "duration": 26,
    "start_time": "2024-04-25T20:29:32.658Z"
   },
   {
    "duration": 11,
    "start_time": "2024-04-25T20:29:36.016Z"
   },
   {
    "duration": 8,
    "start_time": "2024-04-25T20:29:37.200Z"
   },
   {
    "duration": 49,
    "start_time": "2024-04-26T05:53:33.501Z"
   },
   {
    "duration": 1248,
    "start_time": "2024-04-26T05:53:41.739Z"
   },
   {
    "duration": 144,
    "start_time": "2024-04-26T05:53:42.990Z"
   },
   {
    "duration": 13,
    "start_time": "2024-04-26T05:53:43.135Z"
   },
   {
    "duration": 18,
    "start_time": "2024-04-26T05:53:43.150Z"
   },
   {
    "duration": 103,
    "start_time": "2024-04-26T05:53:43.169Z"
   },
   {
    "duration": 13,
    "start_time": "2024-04-26T05:53:43.274Z"
   },
   {
    "duration": 6,
    "start_time": "2024-04-26T05:53:43.288Z"
   },
   {
    "duration": 4,
    "start_time": "2024-04-26T05:53:43.296Z"
   },
   {
    "duration": 78,
    "start_time": "2024-04-26T05:53:43.303Z"
   },
   {
    "duration": 11,
    "start_time": "2024-04-26T05:53:43.383Z"
   },
   {
    "duration": 8,
    "start_time": "2024-04-26T05:53:43.395Z"
   },
   {
    "duration": 12,
    "start_time": "2024-04-26T05:53:43.404Z"
   },
   {
    "duration": 184,
    "start_time": "2024-04-26T05:53:43.417Z"
   },
   {
    "duration": 134,
    "start_time": "2024-04-26T05:53:43.603Z"
   },
   {
    "duration": 6,
    "start_time": "2024-04-26T05:53:43.739Z"
   },
   {
    "duration": 16,
    "start_time": "2024-04-26T05:53:43.747Z"
   },
   {
    "duration": 10,
    "start_time": "2024-04-26T05:53:43.764Z"
   },
   {
    "duration": 7,
    "start_time": "2024-04-26T05:53:43.775Z"
   },
   {
    "duration": 325,
    "start_time": "2024-04-26T05:53:43.783Z"
   },
   {
    "duration": 212,
    "start_time": "2024-04-26T05:53:44.110Z"
   },
   {
    "duration": 402,
    "start_time": "2024-04-26T05:53:44.323Z"
   },
   {
    "duration": 251,
    "start_time": "2024-04-26T05:53:44.726Z"
   },
   {
    "duration": 321,
    "start_time": "2024-04-26T05:53:44.979Z"
   },
   {
    "duration": 5,
    "start_time": "2024-04-26T05:53:45.301Z"
   },
   {
    "duration": 16,
    "start_time": "2024-04-26T05:53:45.308Z"
   },
   {
    "duration": 126,
    "start_time": "2024-04-26T05:53:45.325Z"
   },
   {
    "duration": 122,
    "start_time": "2024-04-26T05:53:45.453Z"
   },
   {
    "duration": 4,
    "start_time": "2024-04-26T05:53:45.578Z"
   },
   {
    "duration": 116,
    "start_time": "2024-04-26T05:53:45.584Z"
   },
   {
    "duration": 0,
    "start_time": "2024-04-26T05:53:45.701Z"
   },
   {
    "duration": 0,
    "start_time": "2024-04-26T05:53:45.702Z"
   },
   {
    "duration": 0,
    "start_time": "2024-04-26T05:53:45.703Z"
   },
   {
    "duration": 0,
    "start_time": "2024-04-26T05:53:45.704Z"
   },
   {
    "duration": 0,
    "start_time": "2024-04-26T05:53:45.705Z"
   },
   {
    "duration": 0,
    "start_time": "2024-04-26T05:53:45.707Z"
   },
   {
    "duration": 0,
    "start_time": "2024-04-26T05:53:45.708Z"
   },
   {
    "duration": 0,
    "start_time": "2024-04-26T05:53:45.709Z"
   },
   {
    "duration": 0,
    "start_time": "2024-04-26T05:53:45.710Z"
   },
   {
    "duration": 1,
    "start_time": "2024-04-26T05:53:45.711Z"
   },
   {
    "duration": 0,
    "start_time": "2024-04-26T05:53:45.712Z"
   },
   {
    "duration": 0,
    "start_time": "2024-04-26T05:53:45.713Z"
   },
   {
    "duration": 0,
    "start_time": "2024-04-26T05:53:45.715Z"
   },
   {
    "duration": 0,
    "start_time": "2024-04-26T05:53:45.715Z"
   },
   {
    "duration": 1,
    "start_time": "2024-04-26T05:53:45.716Z"
   },
   {
    "duration": 0,
    "start_time": "2024-04-26T05:53:45.718Z"
   },
   {
    "duration": 0,
    "start_time": "2024-04-26T05:53:45.719Z"
   },
   {
    "duration": 0,
    "start_time": "2024-04-26T05:53:45.720Z"
   },
   {
    "duration": 0,
    "start_time": "2024-04-26T05:53:45.721Z"
   },
   {
    "duration": 0,
    "start_time": "2024-04-26T05:53:45.722Z"
   },
   {
    "duration": 0,
    "start_time": "2024-04-26T05:53:45.723Z"
   },
   {
    "duration": 212,
    "start_time": "2024-04-26T05:54:26.195Z"
   },
   {
    "duration": 6,
    "start_time": "2024-04-26T05:54:29.722Z"
   },
   {
    "duration": 265,
    "start_time": "2024-04-26T05:55:08.386Z"
   },
   {
    "duration": 239,
    "start_time": "2024-04-26T05:55:34.473Z"
   },
   {
    "duration": 10,
    "start_time": "2024-04-26T05:56:49.530Z"
   },
   {
    "duration": 62,
    "start_time": "2024-04-26T05:57:14.444Z"
   },
   {
    "duration": 19,
    "start_time": "2024-04-26T05:57:18.159Z"
   },
   {
    "duration": 142,
    "start_time": "2024-04-26T05:57:25.610Z"
   },
   {
    "duration": 77,
    "start_time": "2024-04-26T05:58:08.773Z"
   },
   {
    "duration": 12,
    "start_time": "2024-04-26T05:58:12.683Z"
   },
   {
    "duration": 15,
    "start_time": "2024-04-26T05:58:29.222Z"
   },
   {
    "duration": 267,
    "start_time": "2024-04-26T05:59:52.368Z"
   },
   {
    "duration": 253,
    "start_time": "2024-04-26T06:00:00.555Z"
   },
   {
    "duration": 134,
    "start_time": "2024-04-26T06:00:05.215Z"
   },
   {
    "duration": 5,
    "start_time": "2024-04-26T06:00:27.037Z"
   },
   {
    "duration": 5,
    "start_time": "2024-04-26T06:00:39.018Z"
   },
   {
    "duration": 5,
    "start_time": "2024-04-26T06:00:48.435Z"
   },
   {
    "duration": 269,
    "start_time": "2024-04-26T06:01:21.855Z"
   },
   {
    "duration": 10,
    "start_time": "2024-04-26T06:02:35.727Z"
   },
   {
    "duration": 12,
    "start_time": "2024-04-26T06:02:49.767Z"
   },
   {
    "duration": 11,
    "start_time": "2024-04-26T06:02:55.348Z"
   },
   {
    "duration": 8,
    "start_time": "2024-04-26T06:02:55.997Z"
   },
   {
    "duration": 16,
    "start_time": "2024-04-26T06:02:56.852Z"
   },
   {
    "duration": 17,
    "start_time": "2024-04-26T06:02:57.738Z"
   },
   {
    "duration": 15,
    "start_time": "2024-04-26T06:02:59.158Z"
   },
   {
    "duration": 9,
    "start_time": "2024-04-26T06:03:01.002Z"
   },
   {
    "duration": 24,
    "start_time": "2024-04-26T06:03:02.125Z"
   },
   {
    "duration": 4,
    "start_time": "2024-04-26T06:03:02.707Z"
   },
   {
    "duration": 6,
    "start_time": "2024-04-26T06:03:03.188Z"
   },
   {
    "duration": 5,
    "start_time": "2024-04-26T06:03:03.772Z"
   },
   {
    "duration": 11,
    "start_time": "2024-04-26T06:03:08.206Z"
   },
   {
    "duration": 9,
    "start_time": "2024-04-26T06:03:09.354Z"
   },
   {
    "duration": 8,
    "start_time": "2024-04-26T06:03:14.281Z"
   },
   {
    "duration": 5,
    "start_time": "2024-04-26T06:03:16.098Z"
   },
   {
    "duration": 4,
    "start_time": "2024-04-26T06:03:29.477Z"
   },
   {
    "duration": 9,
    "start_time": "2024-04-26T06:04:07.600Z"
   },
   {
    "duration": 26,
    "start_time": "2024-04-26T06:04:12.831Z"
   },
   {
    "duration": 10,
    "start_time": "2024-04-26T06:04:22.050Z"
   },
   {
    "duration": 8,
    "start_time": "2024-04-26T06:04:25.009Z"
   },
   {
    "duration": 9,
    "start_time": "2024-04-26T06:05:12.667Z"
   },
   {
    "duration": 5,
    "start_time": "2024-04-26T06:05:14.180Z"
   },
   {
    "duration": 8,
    "start_time": "2024-04-26T06:05:15.503Z"
   },
   {
    "duration": 33,
    "start_time": "2024-04-26T06:05:17.985Z"
   },
   {
    "duration": 13,
    "start_time": "2024-04-26T06:05:23.815Z"
   },
   {
    "duration": 8,
    "start_time": "2024-04-26T06:05:24.931Z"
   },
   {
    "duration": 8,
    "start_time": "2024-04-26T06:05:55.080Z"
   },
   {
    "duration": 4,
    "start_time": "2024-04-26T06:05:55.853Z"
   },
   {
    "duration": 11,
    "start_time": "2024-04-26T06:05:56.470Z"
   },
   {
    "duration": 37,
    "start_time": "2024-04-26T06:05:57.252Z"
   },
   {
    "duration": 11,
    "start_time": "2024-04-26T06:05:59.752Z"
   },
   {
    "duration": 10,
    "start_time": "2024-04-26T06:06:00.343Z"
   },
   {
    "duration": 8,
    "start_time": "2024-04-26T06:06:55.709Z"
   },
   {
    "duration": 4,
    "start_time": "2024-04-26T06:06:56.773Z"
   },
   {
    "duration": 8,
    "start_time": "2024-04-26T06:06:57.372Z"
   },
   {
    "duration": 25,
    "start_time": "2024-04-26T06:06:57.903Z"
   },
   {
    "duration": 10,
    "start_time": "2024-04-26T06:07:00.162Z"
   },
   {
    "duration": 9,
    "start_time": "2024-04-26T06:07:00.974Z"
   },
   {
    "duration": 1233,
    "start_time": "2024-04-26T09:57:24.421Z"
   },
   {
    "duration": 144,
    "start_time": "2024-04-26T09:57:25.656Z"
   },
   {
    "duration": 13,
    "start_time": "2024-04-26T09:57:25.801Z"
   },
   {
    "duration": 16,
    "start_time": "2024-04-26T09:57:25.815Z"
   },
   {
    "duration": 92,
    "start_time": "2024-04-26T09:57:25.833Z"
   },
   {
    "duration": 11,
    "start_time": "2024-04-26T09:57:25.927Z"
   },
   {
    "duration": 13,
    "start_time": "2024-04-26T09:57:25.939Z"
   },
   {
    "duration": 4,
    "start_time": "2024-04-26T09:57:25.954Z"
   },
   {
    "duration": 65,
    "start_time": "2024-04-26T09:57:25.959Z"
   },
   {
    "duration": 10,
    "start_time": "2024-04-26T09:57:26.026Z"
   },
   {
    "duration": 39,
    "start_time": "2024-04-26T09:57:26.038Z"
   },
   {
    "duration": 8,
    "start_time": "2024-04-26T09:57:26.078Z"
   },
   {
    "duration": 189,
    "start_time": "2024-04-26T09:57:26.087Z"
   },
   {
    "duration": 147,
    "start_time": "2024-04-26T09:57:26.280Z"
   },
   {
    "duration": 6,
    "start_time": "2024-04-26T09:57:26.429Z"
   },
   {
    "duration": 8,
    "start_time": "2024-04-26T09:57:26.437Z"
   },
   {
    "duration": 30,
    "start_time": "2024-04-26T09:57:26.447Z"
   },
   {
    "duration": 8,
    "start_time": "2024-04-26T09:57:26.479Z"
   },
   {
    "duration": 313,
    "start_time": "2024-04-26T09:57:26.488Z"
   },
   {
    "duration": 224,
    "start_time": "2024-04-26T09:57:26.803Z"
   },
   {
    "duration": 409,
    "start_time": "2024-04-26T09:57:27.029Z"
   },
   {
    "duration": 251,
    "start_time": "2024-04-26T09:57:27.440Z"
   },
   {
    "duration": 320,
    "start_time": "2024-04-26T09:57:27.692Z"
   },
   {
    "duration": 6,
    "start_time": "2024-04-26T09:57:28.013Z"
   },
   {
    "duration": 12,
    "start_time": "2024-04-26T09:57:28.020Z"
   },
   {
    "duration": 135,
    "start_time": "2024-04-26T09:57:28.034Z"
   },
   {
    "duration": 119,
    "start_time": "2024-04-26T09:57:28.171Z"
   },
   {
    "duration": 5,
    "start_time": "2024-04-26T09:57:28.292Z"
   },
   {
    "duration": 227,
    "start_time": "2024-04-26T09:57:28.298Z"
   },
   {
    "duration": 5,
    "start_time": "2024-04-26T09:57:28.526Z"
   },
   {
    "duration": 266,
    "start_time": "2024-04-26T09:57:28.533Z"
   },
   {
    "duration": 11,
    "start_time": "2024-04-26T09:57:28.801Z"
   },
   {
    "duration": 11,
    "start_time": "2024-04-26T09:57:28.814Z"
   },
   {
    "duration": 11,
    "start_time": "2024-04-26T09:57:28.827Z"
   },
   {
    "duration": 115,
    "start_time": "2024-04-26T09:57:28.839Z"
   },
   {
    "duration": 16,
    "start_time": "2024-04-26T09:57:28.955Z"
   },
   {
    "duration": 13,
    "start_time": "2024-04-26T09:57:28.973Z"
   },
   {
    "duration": 6,
    "start_time": "2024-04-26T09:57:28.987Z"
   },
   {
    "duration": 25,
    "start_time": "2024-04-26T09:57:28.994Z"
   },
   {
    "duration": 3,
    "start_time": "2024-04-26T09:57:29.021Z"
   },
   {
    "duration": 50,
    "start_time": "2024-04-26T09:57:29.028Z"
   },
   {
    "duration": 8,
    "start_time": "2024-04-26T09:57:29.079Z"
   },
   {
    "duration": 8,
    "start_time": "2024-04-26T09:57:29.088Z"
   },
   {
    "duration": 6,
    "start_time": "2024-04-26T09:57:29.098Z"
   },
   {
    "duration": 11,
    "start_time": "2024-04-26T09:57:29.105Z"
   },
   {
    "duration": 76,
    "start_time": "2024-04-26T09:57:29.118Z"
   },
   {
    "duration": 10,
    "start_time": "2024-04-26T09:57:29.196Z"
   },
   {
    "duration": 8,
    "start_time": "2024-04-26T09:57:29.208Z"
   },
   {
    "duration": 9,
    "start_time": "2024-04-26T09:59:37.637Z"
   },
   {
    "duration": 4,
    "start_time": "2024-04-26T09:59:38.472Z"
   },
   {
    "duration": 9,
    "start_time": "2024-04-26T09:59:41.905Z"
   },
   {
    "duration": 26,
    "start_time": "2024-04-26T09:59:46.982Z"
   },
   {
    "duration": 213,
    "start_time": "2024-04-26T10:04:16.601Z"
   },
   {
    "duration": 244,
    "start_time": "2024-04-26T10:04:30.572Z"
   },
   {
    "duration": 187,
    "start_time": "2024-04-26T10:04:35.537Z"
   },
   {
    "duration": 267,
    "start_time": "2024-04-26T10:04:38.783Z"
   },
   {
    "duration": 199,
    "start_time": "2024-04-26T10:04:47.930Z"
   },
   {
    "duration": 224,
    "start_time": "2024-04-26T10:05:19.917Z"
   },
   {
    "duration": 195,
    "start_time": "2024-04-26T10:05:25.331Z"
   },
   {
    "duration": 198,
    "start_time": "2024-04-26T10:06:39.022Z"
   },
   {
    "duration": 253,
    "start_time": "2024-04-26T10:06:46.750Z"
   },
   {
    "duration": 9,
    "start_time": "2024-04-26T10:08:19.619Z"
   },
   {
    "duration": 4,
    "start_time": "2024-04-26T10:08:20.452Z"
   },
   {
    "duration": 11,
    "start_time": "2024-04-26T10:08:21.916Z"
   },
   {
    "duration": 26,
    "start_time": "2024-04-26T10:08:23.631Z"
   },
   {
    "duration": 9,
    "start_time": "2024-04-26T10:39:01.957Z"
   },
   {
    "duration": 5,
    "start_time": "2024-04-26T10:39:03.086Z"
   },
   {
    "duration": 10,
    "start_time": "2024-04-26T10:39:04.154Z"
   },
   {
    "duration": 30,
    "start_time": "2024-04-26T10:39:05.205Z"
   },
   {
    "duration": 9,
    "start_time": "2024-04-26T10:39:24.397Z"
   },
   {
    "duration": 8,
    "start_time": "2024-04-26T10:39:25.978Z"
   },
   {
    "duration": 6,
    "start_time": "2024-04-26T10:40:49.424Z"
   },
   {
    "duration": 9,
    "start_time": "2024-04-26T10:43:32.756Z"
   },
   {
    "duration": 5,
    "start_time": "2024-04-26T10:43:33.450Z"
   },
   {
    "duration": 8,
    "start_time": "2024-04-26T10:43:34.671Z"
   },
   {
    "duration": 26,
    "start_time": "2024-04-26T10:43:35.324Z"
   },
   {
    "duration": 9,
    "start_time": "2024-04-26T10:44:00.964Z"
   },
   {
    "duration": 8,
    "start_time": "2024-04-26T10:44:01.592Z"
   },
   {
    "duration": 8,
    "start_time": "2024-04-26T10:44:14.996Z"
   },
   {
    "duration": 4,
    "start_time": "2024-04-26T10:44:15.682Z"
   },
   {
    "duration": 8,
    "start_time": "2024-04-26T10:44:16.630Z"
   },
   {
    "duration": 25,
    "start_time": "2024-04-26T10:44:18.017Z"
   },
   {
    "duration": 16,
    "start_time": "2024-04-26T10:44:20.183Z"
   },
   {
    "duration": 9,
    "start_time": "2024-04-26T10:44:21.026Z"
   },
   {
    "duration": 8,
    "start_time": "2024-04-26T10:44:36.361Z"
   },
   {
    "duration": 4,
    "start_time": "2024-04-26T10:44:37.461Z"
   },
   {
    "duration": 10,
    "start_time": "2024-04-26T10:44:38.871Z"
   },
   {
    "duration": 43,
    "start_time": "2024-04-26T10:44:39.264Z"
   },
   {
    "duration": 14,
    "start_time": "2024-04-26T10:44:41.540Z"
   },
   {
    "duration": 10,
    "start_time": "2024-04-26T10:44:42.198Z"
   },
   {
    "duration": 9,
    "start_time": "2024-04-26T10:45:29.028Z"
   },
   {
    "duration": 5,
    "start_time": "2024-04-26T10:45:30.746Z"
   },
   {
    "duration": 10,
    "start_time": "2024-04-26T10:45:31.680Z"
   },
   {
    "duration": 26,
    "start_time": "2024-04-26T10:45:32.498Z"
   },
   {
    "duration": 10,
    "start_time": "2024-04-26T10:45:34.716Z"
   },
   {
    "duration": 8,
    "start_time": "2024-04-26T10:45:35.637Z"
   },
   {
    "duration": 7,
    "start_time": "2024-04-26T10:45:53.426Z"
   },
   {
    "duration": 4,
    "start_time": "2024-04-26T10:45:54.292Z"
   },
   {
    "duration": 7,
    "start_time": "2024-04-26T10:45:54.941Z"
   },
   {
    "duration": 26,
    "start_time": "2024-04-26T10:45:55.497Z"
   },
   {
    "duration": 12,
    "start_time": "2024-04-26T10:45:57.423Z"
   },
   {
    "duration": 11,
    "start_time": "2024-04-26T10:45:58.134Z"
   },
   {
    "duration": 8,
    "start_time": "2024-04-26T10:46:40.618Z"
   },
   {
    "duration": 4,
    "start_time": "2024-04-26T10:46:41.267Z"
   },
   {
    "duration": 7,
    "start_time": "2024-04-26T10:46:41.971Z"
   },
   {
    "duration": 25,
    "start_time": "2024-04-26T10:46:42.523Z"
   },
   {
    "duration": 9,
    "start_time": "2024-04-26T10:46:44.503Z"
   },
   {
    "duration": 7,
    "start_time": "2024-04-26T10:46:45.369Z"
   },
   {
    "duration": 49,
    "start_time": "2024-04-26T18:36:52.614Z"
   },
   {
    "duration": 1352,
    "start_time": "2024-04-26T18:37:00.210Z"
   },
   {
    "duration": 147,
    "start_time": "2024-04-26T18:37:01.565Z"
   },
   {
    "duration": 18,
    "start_time": "2024-04-26T18:37:01.714Z"
   },
   {
    "duration": 48,
    "start_time": "2024-04-26T18:37:01.734Z"
   },
   {
    "duration": 170,
    "start_time": "2024-04-26T18:37:01.785Z"
   },
   {
    "duration": 89,
    "start_time": "2024-04-26T18:37:01.956Z"
   },
   {
    "duration": 493,
    "start_time": "2024-04-26T18:37:02.047Z"
   },
   {
    "duration": 673,
    "start_time": "2024-04-26T18:37:02.542Z"
   },
   {
    "duration": 358,
    "start_time": "2024-04-26T18:37:03.217Z"
   },
   {
    "duration": 99,
    "start_time": "2024-04-26T18:37:03.576Z"
   },
   {
    "duration": 16,
    "start_time": "2024-04-26T18:37:03.677Z"
   },
   {
    "duration": 28,
    "start_time": "2024-04-26T18:37:03.696Z"
   },
   {
    "duration": 187,
    "start_time": "2024-04-26T18:37:03.726Z"
   },
   {
    "duration": 142,
    "start_time": "2024-04-26T18:37:03.916Z"
   },
   {
    "duration": 6,
    "start_time": "2024-04-26T18:37:04.059Z"
   },
   {
    "duration": 8,
    "start_time": "2024-04-26T18:37:04.067Z"
   },
   {
    "duration": 10,
    "start_time": "2024-04-26T18:37:04.076Z"
   },
   {
    "duration": 7,
    "start_time": "2024-04-26T18:37:04.088Z"
   },
   {
    "duration": 319,
    "start_time": "2024-04-26T18:37:04.096Z"
   },
   {
    "duration": 216,
    "start_time": "2024-04-26T18:37:04.416Z"
   },
   {
    "duration": 367,
    "start_time": "2024-04-26T18:37:04.634Z"
   },
   {
    "duration": 241,
    "start_time": "2024-04-26T18:37:05.003Z"
   },
   {
    "duration": 311,
    "start_time": "2024-04-26T18:37:05.246Z"
   },
   {
    "duration": 5,
    "start_time": "2024-04-26T18:37:05.559Z"
   },
   {
    "duration": 18,
    "start_time": "2024-04-26T18:37:05.567Z"
   },
   {
    "duration": 128,
    "start_time": "2024-04-26T18:37:05.587Z"
   },
   {
    "duration": 123,
    "start_time": "2024-04-26T18:37:05.717Z"
   },
   {
    "duration": 6,
    "start_time": "2024-04-26T18:37:05.842Z"
   },
   {
    "duration": 26,
    "start_time": "2024-04-26T18:37:05.850Z"
   },
   {
    "duration": 258,
    "start_time": "2024-04-26T18:37:05.878Z"
   },
   {
    "duration": 5,
    "start_time": "2024-04-26T18:37:06.138Z"
   },
   {
    "duration": 263,
    "start_time": "2024-04-26T18:37:06.145Z"
   },
   {
    "duration": 21,
    "start_time": "2024-04-26T18:37:06.409Z"
   },
   {
    "duration": 14,
    "start_time": "2024-04-26T18:37:06.432Z"
   },
   {
    "duration": 13,
    "start_time": "2024-04-26T18:37:06.449Z"
   },
   {
    "duration": 119,
    "start_time": "2024-04-26T18:37:06.464Z"
   },
   {
    "duration": 11,
    "start_time": "2024-04-26T18:37:06.584Z"
   },
   {
    "duration": 25,
    "start_time": "2024-04-26T18:37:06.597Z"
   },
   {
    "duration": 7,
    "start_time": "2024-04-26T18:37:06.629Z"
   },
   {
    "duration": 37,
    "start_time": "2024-04-26T18:37:06.638Z"
   },
   {
    "duration": 4,
    "start_time": "2024-04-26T18:37:06.679Z"
   },
   {
    "duration": 23,
    "start_time": "2024-04-26T18:37:06.684Z"
   },
   {
    "duration": 8,
    "start_time": "2024-04-26T18:37:06.708Z"
   },
   {
    "duration": 8,
    "start_time": "2024-04-26T18:37:06.730Z"
   },
   {
    "duration": 9,
    "start_time": "2024-04-26T18:37:06.740Z"
   },
   {
    "duration": 8,
    "start_time": "2024-04-26T18:37:06.750Z"
   },
   {
    "duration": 26,
    "start_time": "2024-04-26T18:37:06.759Z"
   },
   {
    "duration": 9,
    "start_time": "2024-04-26T18:37:06.787Z"
   },
   {
    "duration": 8,
    "start_time": "2024-04-26T18:37:06.830Z"
   },
   {
    "duration": 33,
    "start_time": "2024-04-26T18:41:46.839Z"
   },
   {
    "duration": 27,
    "start_time": "2024-04-26T18:42:13.700Z"
   },
   {
    "duration": 19,
    "start_time": "2024-04-26T18:42:25.920Z"
   },
   {
    "duration": 33,
    "start_time": "2024-04-26T18:42:45.163Z"
   },
   {
    "duration": 120,
    "start_time": "2024-04-26T18:44:16.056Z"
   },
   {
    "duration": 47,
    "start_time": "2024-04-26T18:44:31.807Z"
   },
   {
    "duration": 4,
    "start_time": "2024-04-26T18:44:42.276Z"
   },
   {
    "duration": 33,
    "start_time": "2024-04-26T18:44:44.752Z"
   },
   {
    "duration": 31,
    "start_time": "2024-04-26T18:45:02.728Z"
   },
   {
    "duration": 11,
    "start_time": "2024-04-26T18:45:14.085Z"
   },
   {
    "duration": 10,
    "start_time": "2024-04-26T18:45:30.475Z"
   },
   {
    "duration": 13,
    "start_time": "2024-04-26T18:45:40.218Z"
   },
   {
    "duration": 55,
    "start_time": "2024-04-26T18:46:35.055Z"
   },
   {
    "duration": 50,
    "start_time": "2024-04-26T18:49:47.393Z"
   },
   {
    "duration": 7,
    "start_time": "2024-04-26T18:49:51.392Z"
   },
   {
    "duration": 4,
    "start_time": "2024-04-26T18:50:12.241Z"
   },
   {
    "duration": 10,
    "start_time": "2024-04-26T18:50:14.901Z"
   },
   {
    "duration": 11,
    "start_time": "2024-04-26T18:50:56.857Z"
   },
   {
    "duration": 67,
    "start_time": "2024-04-26T18:51:41.983Z"
   },
   {
    "duration": 7,
    "start_time": "2024-04-26T18:51:46.742Z"
   },
   {
    "duration": 11,
    "start_time": "2024-04-26T18:52:10.293Z"
   },
   {
    "duration": 8,
    "start_time": "2024-04-26T18:52:17.096Z"
   },
   {
    "duration": 7,
    "start_time": "2024-04-26T18:52:25.032Z"
   },
   {
    "duration": 7,
    "start_time": "2024-04-26T18:52:44.329Z"
   },
   {
    "duration": 7,
    "start_time": "2024-04-26T18:52:47.965Z"
   },
   {
    "duration": 1067,
    "start_time": "2024-04-26T18:53:56.865Z"
   },
   {
    "duration": 86,
    "start_time": "2024-04-26T18:53:57.934Z"
   },
   {
    "duration": 12,
    "start_time": "2024-04-26T18:53:58.022Z"
   },
   {
    "duration": 6,
    "start_time": "2024-04-26T18:53:58.036Z"
   },
   {
    "duration": 13,
    "start_time": "2024-04-26T18:53:58.044Z"
   },
   {
    "duration": 56,
    "start_time": "2024-04-26T18:53:58.058Z"
   },
   {
    "duration": 12,
    "start_time": "2024-04-26T18:53:58.115Z"
   },
   {
    "duration": 6,
    "start_time": "2024-04-26T18:53:58.128Z"
   },
   {
    "duration": 15,
    "start_time": "2024-04-26T18:53:58.136Z"
   },
   {
    "duration": 27,
    "start_time": "2024-04-26T18:53:58.152Z"
   },
   {
    "duration": 12,
    "start_time": "2024-04-26T18:53:58.181Z"
   },
   {
    "duration": 10,
    "start_time": "2024-04-26T18:53:58.194Z"
   },
   {
    "duration": 14,
    "start_time": "2024-04-26T18:53:58.205Z"
   },
   {
    "duration": 172,
    "start_time": "2024-04-26T18:53:58.222Z"
   },
   {
    "duration": 134,
    "start_time": "2024-04-26T18:53:58.396Z"
   },
   {
    "duration": 6,
    "start_time": "2024-04-26T18:53:58.531Z"
   },
   {
    "duration": 6,
    "start_time": "2024-04-26T18:53:58.539Z"
   },
   {
    "duration": 12,
    "start_time": "2024-04-26T18:53:58.547Z"
   },
   {
    "duration": 8,
    "start_time": "2024-04-26T18:53:58.561Z"
   },
   {
    "duration": 302,
    "start_time": "2024-04-26T18:53:58.570Z"
   },
   {
    "duration": 214,
    "start_time": "2024-04-26T18:53:58.874Z"
   },
   {
    "duration": 348,
    "start_time": "2024-04-26T18:53:59.089Z"
   },
   {
    "duration": 252,
    "start_time": "2024-04-26T18:53:59.439Z"
   },
   {
    "duration": 332,
    "start_time": "2024-04-26T18:53:59.693Z"
   },
   {
    "duration": 6,
    "start_time": "2024-04-26T18:54:00.028Z"
   },
   {
    "duration": 31,
    "start_time": "2024-04-26T18:54:00.036Z"
   },
   {
    "duration": 194,
    "start_time": "2024-04-26T18:54:00.069Z"
   },
   {
    "duration": 123,
    "start_time": "2024-04-26T18:54:00.264Z"
   },
   {
    "duration": 5,
    "start_time": "2024-04-26T18:54:00.389Z"
   },
   {
    "duration": 89,
    "start_time": "2024-04-26T18:54:00.396Z"
   },
   {
    "duration": 317,
    "start_time": "2024-04-26T18:54:00.487Z"
   },
   {
    "duration": 6,
    "start_time": "2024-04-26T18:54:00.806Z"
   },
   {
    "duration": 277,
    "start_time": "2024-04-26T18:54:00.814Z"
   },
   {
    "duration": 13,
    "start_time": "2024-04-26T18:54:01.093Z"
   },
   {
    "duration": 64,
    "start_time": "2024-04-26T18:54:01.107Z"
   },
   {
    "duration": 53,
    "start_time": "2024-04-26T18:54:01.173Z"
   },
   {
    "duration": 138,
    "start_time": "2024-04-26T18:54:01.228Z"
   },
   {
    "duration": 45,
    "start_time": "2024-04-26T18:54:01.367Z"
   },
   {
    "duration": 32,
    "start_time": "2024-04-26T18:54:01.414Z"
   },
   {
    "duration": 143,
    "start_time": "2024-04-26T18:54:01.447Z"
   },
   {
    "duration": 60,
    "start_time": "2024-04-26T18:54:01.594Z"
   },
   {
    "duration": 30,
    "start_time": "2024-04-26T18:54:01.656Z"
   },
   {
    "duration": 62,
    "start_time": "2024-04-26T18:54:01.688Z"
   },
   {
    "duration": 74,
    "start_time": "2024-04-26T18:54:01.752Z"
   },
   {
    "duration": 139,
    "start_time": "2024-04-26T18:54:01.827Z"
   },
   {
    "duration": 190,
    "start_time": "2024-04-26T18:54:01.968Z"
   },
   {
    "duration": 168,
    "start_time": "2024-04-26T18:54:02.159Z"
   },
   {
    "duration": 53,
    "start_time": "2024-04-26T18:54:02.328Z"
   },
   {
    "duration": 14,
    "start_time": "2024-04-26T18:54:02.383Z"
   },
   {
    "duration": 37,
    "start_time": "2024-04-26T18:54:02.399Z"
   },
   {
    "duration": 306,
    "start_time": "2024-04-26T18:58:29.203Z"
   },
   {
    "duration": 133,
    "start_time": "2024-04-26T19:00:15.115Z"
   },
   {
    "duration": 218,
    "start_time": "2024-04-26T19:01:20.400Z"
   },
   {
    "duration": 128,
    "start_time": "2024-04-26T19:01:29.840Z"
   },
   {
    "duration": 131,
    "start_time": "2024-04-26T19:01:36.180Z"
   },
   {
    "duration": 130,
    "start_time": "2024-04-26T19:01:44.153Z"
   },
   {
    "duration": 134,
    "start_time": "2024-04-26T19:02:45.668Z"
   },
   {
    "duration": 129,
    "start_time": "2024-04-26T19:03:03.662Z"
   },
   {
    "duration": 269,
    "start_time": "2024-04-26T19:04:43.919Z"
   },
   {
    "duration": 199,
    "start_time": "2024-04-26T19:05:13.292Z"
   },
   {
    "duration": 224,
    "start_time": "2024-04-26T19:05:45.664Z"
   },
   {
    "duration": 1017,
    "start_time": "2024-04-26T19:18:22.268Z"
   },
   {
    "duration": 88,
    "start_time": "2024-04-26T19:18:23.287Z"
   },
   {
    "duration": 12,
    "start_time": "2024-04-26T19:18:23.377Z"
   },
   {
    "duration": 6,
    "start_time": "2024-04-26T19:18:23.390Z"
   },
   {
    "duration": 31,
    "start_time": "2024-04-26T19:18:23.398Z"
   },
   {
    "duration": 57,
    "start_time": "2024-04-26T19:18:23.431Z"
   },
   {
    "duration": 12,
    "start_time": "2024-04-26T19:18:23.490Z"
   },
   {
    "duration": 11,
    "start_time": "2024-04-26T19:18:23.504Z"
   },
   {
    "duration": 5,
    "start_time": "2024-04-26T19:18:23.517Z"
   },
   {
    "duration": 25,
    "start_time": "2024-04-26T19:18:23.524Z"
   },
   {
    "duration": 11,
    "start_time": "2024-04-26T19:18:23.550Z"
   },
   {
    "duration": 6,
    "start_time": "2024-04-26T19:18:23.563Z"
   },
   {
    "duration": 11,
    "start_time": "2024-04-26T19:18:23.571Z"
   },
   {
    "duration": 188,
    "start_time": "2024-04-26T19:18:23.585Z"
   },
   {
    "duration": 145,
    "start_time": "2024-04-26T19:18:23.775Z"
   },
   {
    "duration": 6,
    "start_time": "2024-04-26T19:18:23.930Z"
   },
   {
    "duration": 14,
    "start_time": "2024-04-26T19:18:23.937Z"
   },
   {
    "duration": 17,
    "start_time": "2024-04-26T19:18:23.952Z"
   },
   {
    "duration": 22,
    "start_time": "2024-04-26T19:18:23.971Z"
   },
   {
    "duration": 303,
    "start_time": "2024-04-26T19:18:23.995Z"
   },
   {
    "duration": 214,
    "start_time": "2024-04-26T19:18:24.299Z"
   },
   {
    "duration": 337,
    "start_time": "2024-04-26T19:18:24.515Z"
   },
   {
    "duration": 274,
    "start_time": "2024-04-26T19:18:24.853Z"
   },
   {
    "duration": 345,
    "start_time": "2024-04-26T19:18:25.129Z"
   },
   {
    "duration": 6,
    "start_time": "2024-04-26T19:18:25.476Z"
   },
   {
    "duration": 14,
    "start_time": "2024-04-26T19:18:25.483Z"
   },
   {
    "duration": 155,
    "start_time": "2024-04-26T19:18:25.499Z"
   },
   {
    "duration": 137,
    "start_time": "2024-04-26T19:18:25.656Z"
   },
   {
    "duration": 5,
    "start_time": "2024-04-26T19:18:25.795Z"
   },
   {
    "duration": 12,
    "start_time": "2024-04-26T19:18:25.802Z"
   },
   {
    "duration": 273,
    "start_time": "2024-04-26T19:18:25.816Z"
   },
   {
    "duration": 4,
    "start_time": "2024-04-26T19:18:26.091Z"
   },
   {
    "duration": 289,
    "start_time": "2024-04-26T19:18:26.096Z"
   },
   {
    "duration": 11,
    "start_time": "2024-04-26T19:18:26.386Z"
   },
   {
    "duration": 38,
    "start_time": "2024-04-26T19:18:26.398Z"
   },
   {
    "duration": 9,
    "start_time": "2024-04-26T19:18:26.437Z"
   },
   {
    "duration": 96,
    "start_time": "2024-04-26T19:18:26.448Z"
   },
   {
    "duration": 10,
    "start_time": "2024-04-26T19:18:26.545Z"
   },
   {
    "duration": 14,
    "start_time": "2024-04-26T19:18:26.557Z"
   },
   {
    "duration": 6,
    "start_time": "2024-04-26T19:18:26.572Z"
   },
   {
    "duration": 29,
    "start_time": "2024-04-26T19:18:26.581Z"
   },
   {
    "duration": 19,
    "start_time": "2024-04-26T19:18:26.611Z"
   },
   {
    "duration": 21,
    "start_time": "2024-04-26T19:18:26.632Z"
   },
   {
    "duration": 7,
    "start_time": "2024-04-26T19:18:26.655Z"
   },
   {
    "duration": 11,
    "start_time": "2024-04-26T19:18:26.664Z"
   },
   {
    "duration": 22,
    "start_time": "2024-04-26T19:18:26.677Z"
   },
   {
    "duration": 10,
    "start_time": "2024-04-26T19:18:26.700Z"
   },
   {
    "duration": 34,
    "start_time": "2024-04-26T19:18:26.711Z"
   },
   {
    "duration": 11,
    "start_time": "2024-04-26T19:18:26.747Z"
   },
   {
    "duration": 7,
    "start_time": "2024-04-26T19:18:26.759Z"
   }
  ],
  "kernelspec": {
   "display_name": "Python 3 (ipykernel)",
   "language": "python",
   "name": "python3"
  },
  "language_info": {
   "codemirror_mode": {
    "name": "ipython",
    "version": 3
   },
   "file_extension": ".py",
   "mimetype": "text/x-python",
   "name": "python",
   "nbconvert_exporter": "python",
   "pygments_lexer": "ipython3",
   "version": "3.9.5"
  },
  "toc": {
   "base_numbering": 1,
   "nav_menu": {},
   "number_sections": true,
   "sideBar": true,
   "skip_h1_title": true,
   "title_cell": "Table of Contents",
   "title_sidebar": "Contents",
   "toc_cell": false,
   "toc_position": {},
   "toc_section_display": true,
   "toc_window_display": false
  }
 },
 "nbformat": 4,
 "nbformat_minor": 2
}
